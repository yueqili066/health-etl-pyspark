{
 "cells": [
  {
   "attachments": {},
   "cell_type": "markdown",
   "metadata": {},
   "source": [
    "## **Overview**\n",
    "\n",
    "In this notebook, load and save operations of data files supported by PySpark are performed.\n",
    "\n",
    "There are many other data sources available in PySpark such as csv, json, parquet, JDBC, text, binaryFile, Avro, etc. See also the latest [Spark SQL, DataFrames and Datasets Guide](https://spark.apache.org/docs/latest/sql-programming-guide.html) in Apache Spark documentation.\n",
    "\n",
    "1- read in data from variou format\n",
    "\n",
    "2- data exploration and pivot table\n",
    "\n",
    "3- data visualization using seaborn\n",
    "\n",
    "4- sql queries\n",
    "\n",
    "[source](https://spark.apache.org/docs/latest/sql-getting-started.html)"
   ]
  },
  {
   "attachments": {},
   "cell_type": "markdown",
   "metadata": {},
   "source": [
    "### **Install PySpark**"
   ]
  },
  {
   "cell_type": "code",
   "execution_count": null,
   "metadata": {},
   "outputs": [],
   "source": [
    "# install PySpark\n",
    "# ! pip install pyspark==3.2.0"
   ]
  },
  {
   "attachments": {},
   "cell_type": "markdown",
   "metadata": {},
   "source": [
    "### **Initializing Spark**"
   ]
  },
  {
   "cell_type": "code",
   "execution_count": 83,
   "metadata": {},
   "outputs": [
    {
     "data": {
      "text/html": [
       "\n",
       "            <div>\n",
       "                <p><b>SparkSession - in-memory</b></p>\n",
       "                \n",
       "        <div>\n",
       "            <p><b>SparkContext</b></p>\n",
       "\n",
       "            <p><a href=\"http://yueqis-air.attlocal.net:4040\">Spark UI</a></p>\n",
       "\n",
       "            <dl>\n",
       "              <dt>Version</dt>\n",
       "                <dd><code>v3.2.0</code></dd>\n",
       "              <dt>Master</dt>\n",
       "                <dd><code>local[*]</code></dd>\n",
       "              <dt>AppName</dt>\n",
       "                <dd><code>pyspark-shell</code></dd>\n",
       "            </dl>\n",
       "        </div>\n",
       "        \n",
       "            </div>\n",
       "        "
      ],
      "text/plain": [
       "<pyspark.sql.session.SparkSession at 0x162941250>"
      ]
     },
     "execution_count": 83,
     "metadata": {},
     "output_type": "execute_result"
    }
   ],
   "source": [
    "from pyspark.sql import SparkSession\n",
    "\n",
    "spark = SparkSession.builder.getOrCreate()\n",
    "\n",
    "spark"
   ]
  },
  {
   "cell_type": "code",
   "execution_count": 2,
   "metadata": {},
   "outputs": [],
   "source": [
    "# import libraries\n",
    "import pandas as pd"
   ]
  },
  {
   "attachments": {},
   "cell_type": "markdown",
   "metadata": {},
   "source": [
    "### **Read in files**\n",
    "### 1. CSV files\n",
    "\n",
    "1.1 -**spark.read().csv(\"file_name\")** to read a file or directory of files in CSV format into Spark DataFrame, and **dataframe.write().csv(\"path\")** to write to a CSV file. Function **option()** can be used to customize the behavior of reading or writing, such as controlling behavior of the header, delimiter character, character set, and so on.\n",
    "\n",
    "1.2 - **.format().options().load()**"
   ]
  },
  {
   "cell_type": "code",
   "execution_count": null,
   "metadata": {},
   "outputs": [],
   "source": [
    "# 1.1 spark.read().csv(\"file_name\")\n",
    "# read in a single csv file\n",
    "csv_path = \"../health_etl/data/BenefitsCostSharing.csv\"\n",
    "\n",
    "benefits = spark.read.csv(csv_path,header=True)  \n",
    "benefits.show(10)\n",
    "\n",
    "# can also change deliminaters according to files\n",
    "# for example, spark.read.options(delimiter=\"\\t\",header=True).csv(csv_path)\n",
    "\n",
    "# 1.2  .format().options().load()\n",
    "benefits = spark.read.format(\"csv\").options(delimiter=\",\", header=True).load(\"../health_etl/data/BenefitsCostSharing.csv\")"
   ]
  },
  {
   "attachments": {},
   "cell_type": "markdown",
   "metadata": {},
   "source": [
    "### 2. **TSV (Tab-separated Values ) files**\n",
    "\n",
    "tsv_path = \"/content/taxis.tsv\"\n",
    "\n",
    "data_taxiss = spark.read.options(delimiter=\"\\t\",header=True).csv(tsv_path)\n"
   ]
  },
  {
   "cell_type": "code",
   "execution_count": null,
   "metadata": {},
   "outputs": [],
   "source": [
    "# Write and Read Text files\n",
    "\n",
    "# df.write().text(\"file_name.txt\")\n",
    "# df = spark.read().text(\"file_name.txt\")"
   ]
  },
  {
   "attachments": {},
   "cell_type": "markdown",
   "metadata": {},
   "source": [
    "### 3 **JSON files**\n",
    "Spark SQL can automatically infer the schema of a JSON dataset and load it as a DataFrame. This conversion can be done using SparkSession.read.json on a JSON file.\n",
    "\n",
    "Note that the file that is offered as a json file is not a typical JSON file. Each line must contain a separate, self-contained valid JSON object."
   ]
  },
  {
   "cell_type": "code",
   "execution_count": null,
   "metadata": {},
   "outputs": [],
   "source": [
    "# Write and Read json file\n",
    "\n",
    "# df.write.json('file_name.json')\n",
    "# df = spark.read.json('file_name.json')"
   ]
  },
  {
   "attachments": {},
   "cell_type": "markdown",
   "metadata": {},
   "source": [
    "### 4. **Parquet Files**\n",
    "Parquet is a columnar format that is supported by many other data processing systems. Spark SQL provides support for both reading and writing Parquet files that automatically preserves the schema of the original data. When reading Parquet files, all columns are automatically converted to be nullable for compatibility reasons."
   ]
  },
  {
   "cell_type": "code",
   "execution_count": null,
   "metadata": {},
   "outputs": [],
   "source": [
    "# Write and Read PARQUET\n",
    "\n",
    "# df.write.parquet('file_name.parquet')\n",
    "# df = spark.read.parquet('file_name.parquet')\n",
    "\n",
    "parquetFile = spark.read.option(\"delimiter\", \";\")\\\n",
    "                        .option(\"header\", True)\\\n",
    "                        .parquet(\"amazonFood.parquet\")"
   ]
  },
  {
   "attachments": {},
   "cell_type": "markdown",
   "metadata": {},
   "source": [
    "### **Data exploration**\n",
    "\n",
    "Use the claim data to do a demo on data visualization"
   ]
  },
  {
   "cell_type": "code",
   "execution_count": null,
   "metadata": {},
   "outputs": [],
   "source": [
    "# ! pip install seaborn"
   ]
  },
  {
   "cell_type": "code",
   "execution_count": null,
   "metadata": {},
   "outputs": [],
   "source": [
    "from datetime import datetime, date\n",
    "from pyspark.sql import Row\n",
    "import pandas as pd \n",
    "import seaborn as sns\n",
    "from pyspark.sql.functions import *"
   ]
  },
  {
   "cell_type": "code",
   "execution_count": null,
   "metadata": {},
   "outputs": [],
   "source": [
    "# import data\n",
    "csv_path = \"../health_etl/data/BenefitsCostSharing.csv\"\n",
    "benefits = spark.read.csv(csv_path,header=True)  \n",
    "benefits.show()\n",
    "benefits.count()    # count rows\n",
    "benefits.select(\"BenefitName\").distinct().count()  # count unique value in a column"
   ]
  },
  {
   "cell_type": "code",
   "execution_count": null,
   "metadata": {},
   "outputs": [],
   "source": [
    "### Check the schema\n",
    "benefits.printSchema()"
   ]
  },
  {
   "attachments": {},
   "cell_type": "markdown",
   "metadata": {},
   "source": [
    "### column manipulation\n",
    "\n",
    "- change column name, `withColumnRenamed(\"_c0\",\"id\")`;\n",
    "\n",
    "- check all columns, \n",
    "- drop some coclumns, `drop(\"col1\",\"col2\",\"col3\")`"
   ]
  },
  {
   "cell_type": "code",
   "execution_count": null,
   "metadata": {},
   "outputs": [],
   "source": [
    "# 1. change column name\n",
    "# benefits = benefits.withColumnRenamed(\"old_name\",\"new_name\")\n",
    "\n",
    "# 2. check all column and drop same columns \n",
    "# benefits.select(\"survived\",\"alive\",\"embarked\",\"embark_town\",\"pclass\",\"class\").show(10)\n",
    "benefits = benefits.drop(\"StandardComponentId\",\"StateCode2\",\"IssuerId2\",\"CoinsInnTier2\")"
   ]
  },
  {
   "attachments": {},
   "cell_type": "markdown",
   "metadata": {},
   "source": [
    "### Missing value\n",
    "\n",
    "- check missing value\n",
    "- fill in missing value with imputed value (numeric)\n",
    "- replace categorical with numberical value"
   ]
  },
  {
   "cell_type": "code",
   "execution_count": null,
   "metadata": {},
   "outputs": [],
   "source": [
    "# check missing value\n",
    "\n",
    "for i in benefits.columns:\n",
    "  print(i,benefits.count()-(benefits.na.drop(subset=i).count()))\n"
   ]
  },
  {
   "cell_type": "code",
   "execution_count": null,
   "metadata": {},
   "outputs": [],
   "source": [
    "## drop na in a column >> this will result a smaller rows\n",
    "benefits =benefits.na.drop(subset=[\"BusinessYear\"])"
   ]
  },
  {
   "cell_type": "code",
   "execution_count": null,
   "metadata": {},
   "outputs": [],
   "source": [
    "# Fill in missing value\n",
    "# pyspark.imputer\n",
    "# Imputation estimator for completing missing values, using the mean, median or mode of the columns in which the missing values are located.\n",
    "# The input columns should be of numeric type. Currently Imputer does not support categorical features and possibly creates incorrect values for a categorical feature.\n",
    "\n",
    "# fill null values in age colum with median \n",
    "from pyspark.ml.feature import Imputer\n",
    "\n",
    "imputer = Imputer(\n",
    "    inputCols=['age'], \n",
    "    outputCols=[\"{}_imputed\".format(c) for c in ['age']]\n",
    "    ).setStrategy(\"median\")"
   ]
  },
  {
   "cell_type": "code",
   "execution_count": null,
   "metadata": {},
   "outputs": [],
   "source": [
    "# replace categoric values with 0 and 1\n",
    "\n",
    "from pyspark.sql.functions import col , udf\n",
    "\n",
    "Dict = {'Yes':'1','No':'0'}   # this dictionary can also be used for other columns transfer\n",
    "map_func = udf(lambda row : Dict.get(row,row))\n",
    "\n",
    "benefits = benefits.withColumn(\"QuantLimitOnSvc\", map_func(col(\"QuantLimitOnSvc\")))\n",
    "\n",
    "benefits.show(10)"
   ]
  },
  {
   "attachments": {},
   "cell_type": "markdown",
   "metadata": {},
   "source": [
    "## pivot table and ploting"
   ]
  },
  {
   "cell_type": "code",
   "execution_count": 3,
   "metadata": {},
   "outputs": [
    {
     "name": "stderr",
     "output_type": "stream",
     "text": [
      "                                                                                \r"
     ]
    }
   ],
   "source": [
    "## import data \n",
    "csv_path = \"../health_etl/data/ServiceArea.csv\"\n",
    "service = spark.read.csv(csv_path,header=True)  \n",
    "\n",
    "import matplotlib.pyplot as plt"
   ]
  },
  {
   "cell_type": "code",
   "execution_count": 4,
   "metadata": {},
   "outputs": [
    {
     "name": "stdout",
     "output_type": "stream",
     "text": [
      "+------------+---------+--------+----------+----------+-------------------+---------+----------+-------------+--------------------+----------------+-------+-------------+--------+--------------------------+---------+--------------+--------------+\n",
      "|BusinessYear|StateCode|IssuerId|SourceName|VersionNum|         ImportDate|IssuerId2|StateCode2|ServiceAreaId|     ServiceAreaName|CoverEntireState| County|PartialCounty|ZipCodes|PartialCountyJustification|RowNumber|MarketCoverage|DentalOnlyPlan|\n",
      "+------------+---------+--------+----------+----------+-------------------+---------+----------+-------------+--------------------+----------------+-------+-------------+--------+--------------------------+---------+--------------+--------------+\n",
      "|        2014|       PA|   22444|      HIOS|         9|2014-01-21 08:29:49|    22444|        PA|       PAS001|Geisinger Health ...|              No|42103.0|           No|    null|                      null|       42|          null|          null|\n",
      "|        2014|       PA|   22444|      HIOS|         9|2014-01-21 08:29:49|    22444|        PA|       PAS001|Geisinger Health ...|              No|42105.0|           No|    null|                      null|       43|          null|          null|\n",
      "|        2014|       PA|   22444|      HIOS|         9|2014-01-21 08:29:49|    22444|        PA|       PAS001|Geisinger Health ...|              No|42107.0|           No|    null|                      null|       44|          null|          null|\n",
      "|        2014|       PA|   22444|      HIOS|         9|2014-01-21 08:29:49|    22444|        PA|       PAS001|Geisinger Health ...|              No|42109.0|           No|    null|                      null|       45|          null|          null|\n",
      "|        2014|       PA|   22444|      HIOS|         9|2014-01-21 08:29:49|    22444|        PA|       PAS001|Geisinger Health ...|              No|42111.0|           No|    null|                      null|       46|          null|          null|\n",
      "|        2014|       PA|   22444|      HIOS|         9|2014-01-21 08:29:49|    22444|        PA|       PAS001|Geisinger Health ...|              No|42113.0|           No|    null|                      null|       47|          null|          null|\n",
      "|        2014|       PA|   22444|      HIOS|         9|2014-01-21 08:29:49|    22444|        PA|       PAS001|Geisinger Health ...|              No|42115.0|           No|    null|                      null|       48|          null|          null|\n",
      "|        2014|       PA|   22444|      HIOS|         9|2014-01-21 08:29:49|    22444|        PA|       PAS001|Geisinger Health ...|              No|42117.0|           No|    null|                      null|       49|          null|          null|\n",
      "|        2014|       PA|   22444|      HIOS|         9|2014-01-21 08:29:49|    22444|        PA|       PAS001|Geisinger Health ...|              No|42119.0|           No|    null|                      null|       50|          null|          null|\n",
      "|        2014|       PA|   22444|      HIOS|         9|2014-01-21 08:29:49|    22444|        PA|       PAS001|Geisinger Health ...|              No|42127.0|           No|    null|                      null|       51|          null|          null|\n",
      "|        2014|       PA|   22444|      HIOS|         9|2014-01-21 08:29:49|    22444|        PA|       PAS001|Geisinger Health ...|              No|42131.0|           No|    null|                      null|       52|          null|          null|\n",
      "|        2014|       PA|   22444|      HIOS|         9|2014-01-21 08:29:49|    22444|        PA|       PAS001|Geisinger Health ...|              No|42133.0|           No|    null|                      null|       53|          null|          null|\n",
      "|        2014|       PA|   22444|      HIOS|         9|2014-01-21 08:29:49|    22444|        PA|       PAS002|           GHP Extra|              No|42027.0|           No|    null|                      null|       54|          null|          null|\n",
      "|        2014|       PA|   22444|      HIOS|         9|2014-01-21 08:29:49|    22444|        PA|       PAS002|           GHP Extra|              No|42035.0|           No|    null|                      null|       55|          null|          null|\n",
      "|        2014|       PA|   22444|      HIOS|         9|2014-01-21 08:29:49|    22444|        PA|       PAS002|           GHP Extra|              No|42037.0|           No|    null|                      null|       56|          null|          null|\n",
      "|        2014|       PA|   22444|      HIOS|         9|2014-01-21 08:29:49|    22444|        PA|       PAS002|           GHP Extra|              No|42043.0|           No|    null|                      null|       57|          null|          null|\n",
      "|        2014|       PA|   22444|      HIOS|         9|2014-01-21 08:29:49|    22444|        PA|       PAS002|           GHP Extra|              No|42067.0|           No|    null|                      null|       58|          null|          null|\n",
      "|        2014|       PA|   22444|      HIOS|         9|2014-01-21 08:29:49|    22444|        PA|       PAS002|           GHP Extra|              No|42069.0|           No|    null|                      null|       59|          null|          null|\n",
      "|        2014|       PA|   22444|      HIOS|         9|2014-01-21 08:29:49|    22444|        PA|       PAS002|           GHP Extra|              No|42079.0|           No|    null|                      null|       60|          null|          null|\n",
      "|        2014|       PA|   22444|      HIOS|         9|2014-01-21 08:29:49|    22444|        PA|       PAS002|           GHP Extra|              No|42081.0|           No|    null|                      null|       61|          null|          null|\n",
      "+------------+---------+--------+----------+----------+-------------------+---------+----------+-------------+--------------------+----------------+-------+-------------+--------+--------------------------+---------+--------------+--------------+\n",
      "only showing top 20 rows\n",
      "\n"
     ]
    }
   ],
   "source": [
    "service.show()"
   ]
  },
  {
   "cell_type": "code",
   "execution_count": 5,
   "metadata": {},
   "outputs": [
    {
     "name": "stderr",
     "output_type": "stream",
     "text": [
      "                                                                                \r"
     ]
    },
    {
     "data": {
      "text/plain": [
       "3"
      ]
     },
     "execution_count": 5,
     "metadata": {},
     "output_type": "execute_result"
    }
   ],
   "source": [
    "service.select(\"SourceName\").distinct().count()"
   ]
  },
  {
   "cell_type": "code",
   "execution_count": 6,
   "metadata": {},
   "outputs": [
    {
     "data": {
      "text/plain": [
       "39"
      ]
     },
     "execution_count": 6,
     "metadata": {},
     "output_type": "execute_result"
    }
   ],
   "source": [
    "service.select(\"StateCode\").distinct().count()"
   ]
  },
  {
   "cell_type": "code",
   "execution_count": 7,
   "metadata": {},
   "outputs": [
    {
     "name": "stdout",
     "output_type": "stream",
     "text": [
      "+---------+----+----+-----+\n",
      "|StateCode|HIOS| OPM|SERFF|\n",
      "+---------+----+----+-----+\n",
      "|       SC| 240|   4| null|\n",
      "|       AZ| 232|null| null|\n",
      "|       LA| 491|   3| null|\n",
      "|       NJ| 343|null| null|\n",
      "|       OR|null|   2|  625|\n",
      "|       VA|   1| 432| 4242|\n",
      "|       WY|  46|null| null|\n",
      "|       NH|null|   3|  196|\n",
      "|       MI|   1| 139| 6077|\n",
      "|       NV|null|   8|  126|\n",
      "|       WI|1315| 102| null|\n",
      "|       ID|null|null|  188|\n",
      "|       NE|null|null| 1185|\n",
      "|       MT|null|   3|  128|\n",
      "|       NC|1086|  85| null|\n",
      "|       DE|null|   3|   53|\n",
      "|       MO|2022| 255| null|\n",
      "|       IL|   1| 108| 2107|\n",
      "|       ME|null|  48|  157|\n",
      "|       ND| 251|null| null|\n",
      "+---------+----+----+-----+\n",
      "only showing top 20 rows\n",
      "\n"
     ]
    }
   ],
   "source": [
    "# pivot table\n",
    "service.groupBy('StateCode').pivot(\"SourceName\").count().show()"
   ]
  },
  {
   "attachments": {},
   "cell_type": "markdown",
   "metadata": {},
   "source": [
    "## **Data visualization**"
   ]
  },
  {
   "cell_type": "code",
   "execution_count": 17,
   "metadata": {},
   "outputs": [
    {
     "data": {
      "text/plain": [
       "Text(0, 0.5, 'number of services')"
      ]
     },
     "execution_count": 17,
     "metadata": {},
     "output_type": "execute_result"
    },
    {
     "data": {
      "image/png": "[encoded data removed]",
      "text/plain": [
       "<Figure size 640x480 with 1 Axes>"
      ]
     },
     "metadata": {},
     "output_type": "display_data"
    }
   ],
   "source": [
    "# plot for pivot table \n",
    "df = service.groupBy('StateCode').pivot(\"SourceName\").count().toPandas()\n",
    "df = df.set_index('StateCode')\n",
    "\n",
    "ax = df.plot(kind=\"bar\")\n",
    "ax.set_xlabel(\"StateCode\")\n",
    "ax.set_ylabel(\"number of services\")"
   ]
  },
  {
   "cell_type": "code",
   "execution_count": 19,
   "metadata": {},
   "outputs": [
    {
     "data": {
      "text/plain": [
       "Text(0.5, 24.0, 'StateCode')"
      ]
     },
     "execution_count": 19,
     "metadata": {},
     "output_type": "execute_result"
    },
    {
     "data": {
      "image/png": "[encoded data removed]",
      "text/plain": [
       "<Figure size 640x480 with 1 Axes>"
      ]
     },
     "metadata": {},
     "output_type": "display_data"
    }
   ],
   "source": [
    "service.groupBy('BusinessYear').pivot(\"SourceName\").count().toPandas().plot(kind=\"bar\")\n",
    "plt.xlabel(\"BusinessYear\")"
   ]
  },
  {
   "attachments": {},
   "cell_type": "markdown",
   "metadata": {},
   "source": [
    "## interactive plot"
   ]
  },
  {
   "cell_type": "code",
   "execution_count": null,
   "metadata": {},
   "outputs": [],
   "source": [
    "# ! pip install plotly\n",
    "# ! pip install nbformat==5.0.2\n",
    "\n",
    "# https://plotly.com/python/bar-charts/"
   ]
  },
  {
   "cell_type": "code",
   "execution_count": 24,
   "metadata": {},
   "outputs": [
    {
     "data": {
      "application/vnd.plotly.v1+json": {
       "config": {
        "plotlyServerURL": "https://plot.ly"
       },
       "data": [
        {
         "alignmentgroup": "True",
         "hovertemplate": "variable=HIOS<br>BusinessYear=%{x}<br>value=%{y}<extra></extra>",
         "legendgroup": "HIOS",
         "marker": {
          "color": "#636efa",
          "pattern": {
           "shape": ""
          }
         },
         "name": "HIOS",
         "offsetgroup": "HIOS",
         "orientation": "v",
         "showlegend": true,
         "textposition": "auto",
         "type": "bar",
         "x": [
          "2014",
          "2015",
          "2016"
         ],
         "xaxis": "x",
         "y": [
          3740,
          8737,
          7448
         ],
         "yaxis": "y"
        },
        {
         "alignmentgroup": "True",
         "hovertemplate": "variable=OPM<br>BusinessYear=%{x}<br>value=%{y}<extra></extra>",
         "legendgroup": "OPM",
         "marker": {
          "color": "#EF553B",
          "pattern": {
           "shape": ""
          }
         },
         "name": "OPM",
         "offsetgroup": "OPM",
         "orientation": "v",
         "showlegend": true,
         "textposition": "auto",
         "type": "bar",
         "x": [
          "2014",
          "2015",
          "2016"
         ],
         "xaxis": "x",
         "y": [
          485,
          643,
          1006
         ],
         "yaxis": "y"
        },
        {
         "alignmentgroup": "True",
         "hovertemplate": "variable=SERFF<br>BusinessYear=%{x}<br>value=%{y}<extra></extra>",
         "legendgroup": "SERFF",
         "marker": {
          "color": "#00cc96",
          "pattern": {
           "shape": ""
          }
         },
         "name": "SERFF",
         "offsetgroup": "SERFF",
         "orientation": "v",
         "showlegend": true,
         "textposition": "auto",
         "type": "bar",
         "x": [
          "2014",
          "2015",
          "2016"
         ],
         "xaxis": "x",
         "y": [
          4649,
          8115,
          7424
         ],
         "yaxis": "y"
        }
       ],
       "layout": {
        "barmode": "relative",
        "legend": {
         "title": {
          "text": "variable"
         },
         "tracegroupgap": 0
        },
        "template": {
         "data": {
          "bar": [
           {
            "error_x": {
             "color": "#2a3f5f"
            },
            "error_y": {
             "color": "#2a3f5f"
            },
            "marker": {
             "line": {
              "color": "#E5ECF6",
              "width": 0.5
             },
             "pattern": {
              "fillmode": "overlay",
              "size": 10,
              "solidity": 0.2
             }
            },
            "type": "bar"
           }
          ],
          "barpolar": [
           {
            "marker": {
             "line": {
              "color": "#E5ECF6",
              "width": 0.5
             },
             "pattern": {
              "fillmode": "overlay",
              "size": 10,
              "solidity": 0.2
             }
            },
            "type": "barpolar"
           }
          ],
          "carpet": [
           {
            "aaxis": {
             "endlinecolor": "#2a3f5f",
             "gridcolor": "white",
             "linecolor": "white",
             "minorgridcolor": "white",
             "startlinecolor": "#2a3f5f"
            },
            "baxis": {
             "endlinecolor": "#2a3f5f",
             "gridcolor": "white",
             "linecolor": "white",
             "minorgridcolor": "white",
             "startlinecolor": "#2a3f5f"
            },
            "type": "carpet"
           }
          ],
          "choropleth": [
           {
            "colorbar": {
             "outlinewidth": 0,
             "ticks": ""
            },
            "type": "choropleth"
           }
          ],
          "contour": [
           {
            "colorbar": {
             "outlinewidth": 0,
             "ticks": ""
            },
            "colorscale": [
             [
              0,
              "#0d0887"
             ],
             [
              0.1111111111111111,
              "#46039f"
             ],
             [
              0.2222222222222222,
              "#7201a8"
             ],
             [
              0.3333333333333333,
              "#9c179e"
             ],
             [
              0.4444444444444444,
              "#bd3786"
             ],
             [
              0.5555555555555556,
              "#d8576b"
             ],
             [
              0.6666666666666666,
              "#ed7953"
             ],
             [
              0.7777777777777778,
              "#fb9f3a"
             ],
             [
              0.8888888888888888,
              "#fdca26"
             ],
             [
              1,
              "#f0f921"
             ]
            ],
            "type": "contour"
           }
          ],
          "contourcarpet": [
           {
            "colorbar": {
             "outlinewidth": 0,
             "ticks": ""
            },
            "type": "contourcarpet"
           }
          ],
          "heatmap": [
           {
            "colorbar": {
             "outlinewidth": 0,
             "ticks": ""
            },
            "colorscale": [
             [
              0,
              "#0d0887"
             ],
             [
              0.1111111111111111,
              "#46039f"
             ],
             [
              0.2222222222222222,
              "#7201a8"
             ],
             [
              0.3333333333333333,
              "#9c179e"
             ],
             [
              0.4444444444444444,
              "#bd3786"
             ],
             [
              0.5555555555555556,
              "#d8576b"
             ],
             [
              0.6666666666666666,
              "#ed7953"
             ],
             [
              0.7777777777777778,
              "#fb9f3a"
             ],
             [
              0.8888888888888888,
              "#fdca26"
             ],
             [
              1,
              "#f0f921"
             ]
            ],
            "type": "heatmap"
           }
          ],
          "heatmapgl": [
           {
            "colorbar": {
             "outlinewidth": 0,
             "ticks": ""
            },
            "colorscale": [
             [
              0,
              "#0d0887"
             ],
             [
              0.1111111111111111,
              "#46039f"
             ],
             [
              0.2222222222222222,
              "#7201a8"
             ],
             [
              0.3333333333333333,
              "#9c179e"
             ],
             [
              0.4444444444444444,
              "#bd3786"
             ],
             [
              0.5555555555555556,
              "#d8576b"
             ],
             [
              0.6666666666666666,
              "#ed7953"
             ],
             [
              0.7777777777777778,
              "#fb9f3a"
             ],
             [
              0.8888888888888888,
              "#fdca26"
             ],
             [
              1,
              "#f0f921"
             ]
            ],
            "type": "heatmapgl"
           }
          ],
          "histogram": [
           {
            "marker": {
             "pattern": {
              "fillmode": "overlay",
              "size": 10,
              "solidity": 0.2
             }
            },
            "type": "histogram"
           }
          ],
          "histogram2d": [
           {
            "colorbar": {
             "outlinewidth": 0,
             "ticks": ""
            },
            "colorscale": [
             [
              0,
              "#0d0887"
             ],
             [
              0.1111111111111111,
              "#46039f"
             ],
             [
              0.2222222222222222,
              "#7201a8"
             ],
             [
              0.3333333333333333,
              "#9c179e"
             ],
             [
              0.4444444444444444,
              "#bd3786"
             ],
             [
              0.5555555555555556,
              "#d8576b"
             ],
             [
              0.6666666666666666,
              "#ed7953"
             ],
             [
              0.7777777777777778,
              "#fb9f3a"
             ],
             [
              0.8888888888888888,
              "#fdca26"
             ],
             [
              1,
              "#f0f921"
             ]
            ],
            "type": "histogram2d"
           }
          ],
          "histogram2dcontour": [
           {
            "colorbar": {
             "outlinewidth": 0,
             "ticks": ""
            },
            "colorscale": [
             [
              0,
              "#0d0887"
             ],
             [
              0.1111111111111111,
              "#46039f"
             ],
             [
              0.2222222222222222,
              "#7201a8"
             ],
             [
              0.3333333333333333,
              "#9c179e"
             ],
             [
              0.4444444444444444,
              "#bd3786"
             ],
             [
              0.5555555555555556,
              "#d8576b"
             ],
             [
              0.6666666666666666,
              "#ed7953"
             ],
             [
              0.7777777777777778,
              "#fb9f3a"
             ],
             [
              0.8888888888888888,
              "#fdca26"
             ],
             [
              1,
              "#f0f921"
             ]
            ],
            "type": "histogram2dcontour"
           }
          ],
          "mesh3d": [
           {
            "colorbar": {
             "outlinewidth": 0,
             "ticks": ""
            },
            "type": "mesh3d"
           }
          ],
          "parcoords": [
           {
            "line": {
             "colorbar": {
              "outlinewidth": 0,
              "ticks": ""
             }
            },
            "type": "parcoords"
           }
          ],
          "pie": [
           {
            "automargin": true,
            "type": "pie"
           }
          ],
          "scatter": [
           {
            "fillpattern": {
             "fillmode": "overlay",
             "size": 10,
             "solidity": 0.2
            },
            "type": "scatter"
           }
          ],
          "scatter3d": [
           {
            "line": {
             "colorbar": {
              "outlinewidth": 0,
              "ticks": ""
             }
            },
            "marker": {
             "colorbar": {
              "outlinewidth": 0,
              "ticks": ""
             }
            },
            "type": "scatter3d"
           }
          ],
          "scattercarpet": [
           {
            "marker": {
             "colorbar": {
              "outlinewidth": 0,
              "ticks": ""
             }
            },
            "type": "scattercarpet"
           }
          ],
          "scattergeo": [
           {
            "marker": {
             "colorbar": {
              "outlinewidth": 0,
              "ticks": ""
             }
            },
            "type": "scattergeo"
           }
          ],
          "scattergl": [
           {
            "marker": {
             "colorbar": {
              "outlinewidth": 0,
              "ticks": ""
             }
            },
            "type": "scattergl"
           }
          ],
          "scattermapbox": [
           {
            "marker": {
             "colorbar": {
              "outlinewidth": 0,
              "ticks": ""
             }
            },
            "type": "scattermapbox"
           }
          ],
          "scatterpolar": [
           {
            "marker": {
             "colorbar": {
              "outlinewidth": 0,
              "ticks": ""
             }
            },
            "type": "scatterpolar"
           }
          ],
          "scatterpolargl": [
           {
            "marker": {
             "colorbar": {
              "outlinewidth": 0,
              "ticks": ""
             }
            },
            "type": "scatterpolargl"
           }
          ],
          "scatterternary": [
           {
            "marker": {
             "colorbar": {
              "outlinewidth": 0,
              "ticks": ""
             }
            },
            "type": "scatterternary"
           }
          ],
          "surface": [
           {
            "colorbar": {
             "outlinewidth": 0,
             "ticks": ""
            },
            "colorscale": [
             [
              0,
              "#0d0887"
             ],
             [
              0.1111111111111111,
              "#46039f"
             ],
             [
              0.2222222222222222,
              "#7201a8"
             ],
             [
              0.3333333333333333,
              "#9c179e"
             ],
             [
              0.4444444444444444,
              "#bd3786"
             ],
             [
              0.5555555555555556,
              "#d8576b"
             ],
             [
              0.6666666666666666,
              "#ed7953"
             ],
             [
              0.7777777777777778,
              "#fb9f3a"
             ],
             [
              0.8888888888888888,
              "#fdca26"
             ],
             [
              1,
              "#f0f921"
             ]
            ],
            "type": "surface"
           }
          ],
          "table": [
           {
            "cells": {
             "fill": {
              "color": "#EBF0F8"
             },
             "line": {
              "color": "white"
             }
            },
            "header": {
             "fill": {
              "color": "#C8D4E3"
             },
             "line": {
              "color": "white"
             }
            },
            "type": "table"
           }
          ]
         },
         "layout": {
          "annotationdefaults": {
           "arrowcolor": "#2a3f5f",
           "arrowhead": 0,
           "arrowwidth": 1
          },
          "autotypenumbers": "strict",
          "coloraxis": {
           "colorbar": {
            "outlinewidth": 0,
            "ticks": ""
           }
          },
          "colorscale": {
           "diverging": [
            [
             0,
             "#8e0152"
            ],
            [
             0.1,
             "#c51b7d"
            ],
            [
             0.2,
             "#de77ae"
            ],
            [
             0.3,
             "#f1b6da"
            ],
            [
             0.4,
             "#fde0ef"
            ],
            [
             0.5,
             "#f7f7f7"
            ],
            [
             0.6,
             "#e6f5d0"
            ],
            [
             0.7,
             "#b8e186"
            ],
            [
             0.8,
             "#7fbc41"
            ],
            [
             0.9,
             "#4d9221"
            ],
            [
             1,
             "#276419"
            ]
           ],
           "sequential": [
            [
             0,
             "#0d0887"
            ],
            [
             0.1111111111111111,
             "#46039f"
            ],
            [
             0.2222222222222222,
             "#7201a8"
            ],
            [
             0.3333333333333333,
             "#9c179e"
            ],
            [
             0.4444444444444444,
             "#bd3786"
            ],
            [
             0.5555555555555556,
             "#d8576b"
            ],
            [
             0.6666666666666666,
             "#ed7953"
            ],
            [
             0.7777777777777778,
             "#fb9f3a"
            ],
            [
             0.8888888888888888,
             "#fdca26"
            ],
            [
             1,
             "#f0f921"
            ]
           ],
           "sequentialminus": [
            [
             0,
             "#0d0887"
            ],
            [
             0.1111111111111111,
             "#46039f"
            ],
            [
             0.2222222222222222,
             "#7201a8"
            ],
            [
             0.3333333333333333,
             "#9c179e"
            ],
            [
             0.4444444444444444,
             "#bd3786"
            ],
            [
             0.5555555555555556,
             "#d8576b"
            ],
            [
             0.6666666666666666,
             "#ed7953"
            ],
            [
             0.7777777777777778,
             "#fb9f3a"
            ],
            [
             0.8888888888888888,
             "#fdca26"
            ],
            [
             1,
             "#f0f921"
            ]
           ]
          },
          "colorway": [
           "#636efa",
           "#EF553B",
           "#00cc96",
           "#ab63fa",
           "#FFA15A",
           "#19d3f3",
           "#FF6692",
           "#B6E880",
           "#FF97FF",
           "#FECB52"
          ],
          "font": {
           "color": "#2a3f5f"
          },
          "geo": {
           "bgcolor": "white",
           "lakecolor": "white",
           "landcolor": "#E5ECF6",
           "showlakes": true,
           "showland": true,
           "subunitcolor": "white"
          },
          "hoverlabel": {
           "align": "left"
          },
          "hovermode": "closest",
          "mapbox": {
           "style": "light"
          },
          "paper_bgcolor": "white",
          "plot_bgcolor": "#E5ECF6",
          "polar": {
           "angularaxis": {
            "gridcolor": "white",
            "linecolor": "white",
            "ticks": ""
           },
           "bgcolor": "#E5ECF6",
           "radialaxis": {
            "gridcolor": "white",
            "linecolor": "white",
            "ticks": ""
           }
          },
          "scene": {
           "xaxis": {
            "backgroundcolor": "#E5ECF6",
            "gridcolor": "white",
            "gridwidth": 2,
            "linecolor": "white",
            "showbackground": true,
            "ticks": "",
            "zerolinecolor": "white"
           },
           "yaxis": {
            "backgroundcolor": "#E5ECF6",
            "gridcolor": "white",
            "gridwidth": 2,
            "linecolor": "white",
            "showbackground": true,
            "ticks": "",
            "zerolinecolor": "white"
           },
           "zaxis": {
            "backgroundcolor": "#E5ECF6",
            "gridcolor": "white",
            "gridwidth": 2,
            "linecolor": "white",
            "showbackground": true,
            "ticks": "",
            "zerolinecolor": "white"
           }
          },
          "shapedefaults": {
           "line": {
            "color": "#2a3f5f"
           }
          },
          "ternary": {
           "aaxis": {
            "gridcolor": "white",
            "linecolor": "white",
            "ticks": ""
           },
           "baxis": {
            "gridcolor": "white",
            "linecolor": "white",
            "ticks": ""
           },
           "bgcolor": "#E5ECF6",
           "caxis": {
            "gridcolor": "white",
            "linecolor": "white",
            "ticks": ""
           }
          },
          "title": {
           "x": 0.05
          },
          "xaxis": {
           "automargin": true,
           "gridcolor": "white",
           "linecolor": "white",
           "ticks": "",
           "title": {
            "standoff": 15
           },
           "zerolinecolor": "white",
           "zerolinewidth": 2
          },
          "yaxis": {
           "automargin": true,
           "gridcolor": "white",
           "linecolor": "white",
           "ticks": "",
           "title": {
            "standoff": 15
           },
           "zerolinecolor": "white",
           "zerolinewidth": 2
          }
         }
        },
        "title": {
         "text": "Proportion of different source by year"
        },
        "xaxis": {
         "anchor": "y",
         "domain": [
          0,
          1
         ],
         "title": {
          "text": "BusinessYear"
         }
        },
        "yaxis": {
         "anchor": "x",
         "domain": [
          0,
          1
         ],
         "title": {
          "text": "value"
         }
        }
       }
      }
     },
     "metadata": {},
     "output_type": "display_data"
    }
   ],
   "source": [
    "import plotly.express as px\n",
    "\n",
    "df = service.groupBy('BusinessYear').pivot(\"SourceName\").count().toPandas()\n",
    "\n",
    "df = df = df.sort_values(by=['BusinessYear'], ascending=True) \n",
    "fig = px.bar(df, x='BusinessYear', y=['HIOS', 'OPM','SERFF'], \n",
    "             title='Proportion of different cover source by buisiness year')\n",
    "fig.show()\n"
   ]
  },
  {
   "cell_type": "code",
   "execution_count": 25,
   "metadata": {},
   "outputs": [
    {
     "data": {
      "application/vnd.plotly.v1+json": {
       "config": {
        "plotlyServerURL": "https://plot.ly"
       },
       "data": [
        {
         "alignmentgroup": "True",
         "hovertemplate": "variable=HIOS<br>StateCode=%{x}<br>value=%{y}<extra></extra>",
         "legendgroup": "HIOS",
         "marker": {
          "color": "#636efa",
          "pattern": {
           "shape": ""
          }
         },
         "name": "HIOS",
         "offsetgroup": "HIOS",
         "orientation": "v",
         "showlegend": true,
         "textposition": "auto",
         "type": "bar",
         "x": [
          "PA",
          "TX",
          "GA",
          "MO",
          "WI",
          "FL",
          "IN",
          "NC",
          "OK",
          "TN",
          "LA",
          "MS",
          "NJ",
          "ND",
          "SC",
          "AZ",
          "AL",
          "WY",
          "AK",
          "OH",
          "IL",
          "MI",
          "VA",
          "OR",
          "NH",
          "NV",
          "ID",
          "NE",
          "MT",
          "DE",
          "ME",
          "NM",
          "IA",
          "SD",
          "WV",
          "KS",
          "AR",
          "UT",
          "HI"
         ],
         "xaxis": "x",
         "y": [
          3525,
          3146,
          2241,
          2022,
          1315,
          1305,
          1147,
          1086,
          953,
          906,
          491,
          462,
          343,
          251,
          240,
          232,
          175,
          46,
          35,
          1,
          1,
          1,
          1,
          null,
          null,
          null,
          null,
          null,
          null,
          null,
          null,
          null,
          null,
          null,
          null,
          null,
          null,
          null,
          null
         ],
         "yaxis": "y"
        },
        {
         "alignmentgroup": "True",
         "hovertemplate": "variable=OPM<br>StateCode=%{x}<br>value=%{y}<extra></extra>",
         "legendgroup": "OPM",
         "marker": {
          "color": "#EF553B",
          "pattern": {
           "shape": ""
          }
         },
         "name": "OPM",
         "offsetgroup": "OPM",
         "orientation": "v",
         "showlegend": true,
         "textposition": "auto",
         "type": "bar",
         "x": [
          "PA",
          "TX",
          "GA",
          "MO",
          "WI",
          "FL",
          "IN",
          "NC",
          "OK",
          "TN",
          "LA",
          "MS",
          "NJ",
          "ND",
          "SC",
          "AZ",
          "AL",
          "WY",
          "AK",
          "OH",
          "IL",
          "MI",
          "VA",
          "OR",
          "NH",
          "NV",
          "ID",
          "NE",
          "MT",
          "DE",
          "ME",
          "NM",
          "IA",
          "SD",
          "WV",
          "KS",
          "AR",
          "UT",
          "HI"
         ],
         "xaxis": "x",
         "y": [
          267,
          256,
          3,
          255,
          102,
          null,
          3,
          85,
          79,
          3,
          3,
          null,
          null,
          null,
          4,
          null,
          1,
          null,
          6,
          null,
          108,
          139,
          432,
          2,
          3,
          8,
          null,
          null,
          3,
          3,
          48,
          4,
          null,
          null,
          3,
          309,
          3,
          2,
          null
         ],
         "yaxis": "y"
        },
        {
         "alignmentgroup": "True",
         "hovertemplate": "variable=SERFF<br>StateCode=%{x}<br>value=%{y}<extra></extra>",
         "legendgroup": "SERFF",
         "marker": {
          "color": "#00cc96",
          "pattern": {
           "shape": ""
          }
         },
         "name": "SERFF",
         "offsetgroup": "SERFF",
         "orientation": "v",
         "showlegend": true,
         "textposition": "auto",
         "type": "bar",
         "x": [
          "PA",
          "TX",
          "GA",
          "MO",
          "WI",
          "FL",
          "IN",
          "NC",
          "OK",
          "TN",
          "LA",
          "MS",
          "NJ",
          "ND",
          "SC",
          "AZ",
          "AL",
          "WY",
          "AK",
          "OH",
          "IL",
          "MI",
          "VA",
          "OR",
          "NH",
          "NV",
          "ID",
          "NE",
          "MT",
          "DE",
          "ME",
          "NM",
          "IA",
          "SD",
          "WV",
          "KS",
          "AR",
          "UT",
          "HI"
         ],
         "xaxis": "x",
         "y": [
          null,
          null,
          null,
          null,
          null,
          null,
          null,
          null,
          null,
          null,
          null,
          null,
          null,
          null,
          null,
          null,
          null,
          null,
          null,
          1665,
          2107,
          6077,
          4242,
          625,
          196,
          126,
          188,
          1185,
          128,
          53,
          157,
          150,
          514,
          220,
          104,
          1728,
          364,
          353,
          6
         ],
         "yaxis": "y"
        }
       ],
       "layout": {
        "barmode": "relative",
        "legend": {
         "title": {
          "text": "variable"
         },
         "tracegroupgap": 0
        },
        "template": {
         "data": {
          "bar": [
           {
            "error_x": {
             "color": "#2a3f5f"
            },
            "error_y": {
             "color": "#2a3f5f"
            },
            "marker": {
             "line": {
              "color": "#E5ECF6",
              "width": 0.5
             },
             "pattern": {
              "fillmode": "overlay",
              "size": 10,
              "solidity": 0.2
             }
            },
            "type": "bar"
           }
          ],
          "barpolar": [
           {
            "marker": {
             "line": {
              "color": "#E5ECF6",
              "width": 0.5
             },
             "pattern": {
              "fillmode": "overlay",
              "size": 10,
              "solidity": 0.2
             }
            },
            "type": "barpolar"
           }
          ],
          "carpet": [
           {
            "aaxis": {
             "endlinecolor": "#2a3f5f",
             "gridcolor": "white",
             "linecolor": "white",
             "minorgridcolor": "white",
             "startlinecolor": "#2a3f5f"
            },
            "baxis": {
             "endlinecolor": "#2a3f5f",
             "gridcolor": "white",
             "linecolor": "white",
             "minorgridcolor": "white",
             "startlinecolor": "#2a3f5f"
            },
            "type": "carpet"
           }
          ],
          "choropleth": [
           {
            "colorbar": {
             "outlinewidth": 0,
             "ticks": ""
            },
            "type": "choropleth"
           }
          ],
          "contour": [
           {
            "colorbar": {
             "outlinewidth": 0,
             "ticks": ""
            },
            "colorscale": [
             [
              0,
              "#0d0887"
             ],
             [
              0.1111111111111111,
              "#46039f"
             ],
             [
              0.2222222222222222,
              "#7201a8"
             ],
             [
              0.3333333333333333,
              "#9c179e"
             ],
             [
              0.4444444444444444,
              "#bd3786"
             ],
             [
              0.5555555555555556,
              "#d8576b"
             ],
             [
              0.6666666666666666,
              "#ed7953"
             ],
             [
              0.7777777777777778,
              "#fb9f3a"
             ],
             [
              0.8888888888888888,
              "#fdca26"
             ],
             [
              1,
              "#f0f921"
             ]
            ],
            "type": "contour"
           }
          ],
          "contourcarpet": [
           {
            "colorbar": {
             "outlinewidth": 0,
             "ticks": ""
            },
            "type": "contourcarpet"
           }
          ],
          "heatmap": [
           {
            "colorbar": {
             "outlinewidth": 0,
             "ticks": ""
            },
            "colorscale": [
             [
              0,
              "#0d0887"
             ],
             [
              0.1111111111111111,
              "#46039f"
             ],
             [
              0.2222222222222222,
              "#7201a8"
             ],
             [
              0.3333333333333333,
              "#9c179e"
             ],
             [
              0.4444444444444444,
              "#bd3786"
             ],
             [
              0.5555555555555556,
              "#d8576b"
             ],
             [
              0.6666666666666666,
              "#ed7953"
             ],
             [
              0.7777777777777778,
              "#fb9f3a"
             ],
             [
              0.8888888888888888,
              "#fdca26"
             ],
             [
              1,
              "#f0f921"
             ]
            ],
            "type": "heatmap"
           }
          ],
          "heatmapgl": [
           {
            "colorbar": {
             "outlinewidth": 0,
             "ticks": ""
            },
            "colorscale": [
             [
              0,
              "#0d0887"
             ],
             [
              0.1111111111111111,
              "#46039f"
             ],
             [
              0.2222222222222222,
              "#7201a8"
             ],
             [
              0.3333333333333333,
              "#9c179e"
             ],
             [
              0.4444444444444444,
              "#bd3786"
             ],
             [
              0.5555555555555556,
              "#d8576b"
             ],
             [
              0.6666666666666666,
              "#ed7953"
             ],
             [
              0.7777777777777778,
              "#fb9f3a"
             ],
             [
              0.8888888888888888,
              "#fdca26"
             ],
             [
              1,
              "#f0f921"
             ]
            ],
            "type": "heatmapgl"
           }
          ],
          "histogram": [
           {
            "marker": {
             "pattern": {
              "fillmode": "overlay",
              "size": 10,
              "solidity": 0.2
             }
            },
            "type": "histogram"
           }
          ],
          "histogram2d": [
           {
            "colorbar": {
             "outlinewidth": 0,
             "ticks": ""
            },
            "colorscale": [
             [
              0,
              "#0d0887"
             ],
             [
              0.1111111111111111,
              "#46039f"
             ],
             [
              0.2222222222222222,
              "#7201a8"
             ],
             [
              0.3333333333333333,
              "#9c179e"
             ],
             [
              0.4444444444444444,
              "#bd3786"
             ],
             [
              0.5555555555555556,
              "#d8576b"
             ],
             [
              0.6666666666666666,
              "#ed7953"
             ],
             [
              0.7777777777777778,
              "#fb9f3a"
             ],
             [
              0.8888888888888888,
              "#fdca26"
             ],
             [
              1,
              "#f0f921"
             ]
            ],
            "type": "histogram2d"
           }
          ],
          "histogram2dcontour": [
           {
            "colorbar": {
             "outlinewidth": 0,
             "ticks": ""
            },
            "colorscale": [
             [
              0,
              "#0d0887"
             ],
             [
              0.1111111111111111,
              "#46039f"
             ],
             [
              0.2222222222222222,
              "#7201a8"
             ],
             [
              0.3333333333333333,
              "#9c179e"
             ],
             [
              0.4444444444444444,
              "#bd3786"
             ],
             [
              0.5555555555555556,
              "#d8576b"
             ],
             [
              0.6666666666666666,
              "#ed7953"
             ],
             [
              0.7777777777777778,
              "#fb9f3a"
             ],
             [
              0.8888888888888888,
              "#fdca26"
             ],
             [
              1,
              "#f0f921"
             ]
            ],
            "type": "histogram2dcontour"
           }
          ],
          "mesh3d": [
           {
            "colorbar": {
             "outlinewidth": 0,
             "ticks": ""
            },
            "type": "mesh3d"
           }
          ],
          "parcoords": [
           {
            "line": {
             "colorbar": {
              "outlinewidth": 0,
              "ticks": ""
             }
            },
            "type": "parcoords"
           }
          ],
          "pie": [
           {
            "automargin": true,
            "type": "pie"
           }
          ],
          "scatter": [
           {
            "fillpattern": {
             "fillmode": "overlay",
             "size": 10,
             "solidity": 0.2
            },
            "type": "scatter"
           }
          ],
          "scatter3d": [
           {
            "line": {
             "colorbar": {
              "outlinewidth": 0,
              "ticks": ""
             }
            },
            "marker": {
             "colorbar": {
              "outlinewidth": 0,
              "ticks": ""
             }
            },
            "type": "scatter3d"
           }
          ],
          "scattercarpet": [
           {
            "marker": {
             "colorbar": {
              "outlinewidth": 0,
              "ticks": ""
             }
            },
            "type": "scattercarpet"
           }
          ],
          "scattergeo": [
           {
            "marker": {
             "colorbar": {
              "outlinewidth": 0,
              "ticks": ""
             }
            },
            "type": "scattergeo"
           }
          ],
          "scattergl": [
           {
            "marker": {
             "colorbar": {
              "outlinewidth": 0,
              "ticks": ""
             }
            },
            "type": "scattergl"
           }
          ],
          "scattermapbox": [
           {
            "marker": {
             "colorbar": {
              "outlinewidth": 0,
              "ticks": ""
             }
            },
            "type": "scattermapbox"
           }
          ],
          "scatterpolar": [
           {
            "marker": {
             "colorbar": {
              "outlinewidth": 0,
              "ticks": ""
             }
            },
            "type": "scatterpolar"
           }
          ],
          "scatterpolargl": [
           {
            "marker": {
             "colorbar": {
              "outlinewidth": 0,
              "ticks": ""
             }
            },
            "type": "scatterpolargl"
           }
          ],
          "scatterternary": [
           {
            "marker": {
             "colorbar": {
              "outlinewidth": 0,
              "ticks": ""
             }
            },
            "type": "scatterternary"
           }
          ],
          "surface": [
           {
            "colorbar": {
             "outlinewidth": 0,
             "ticks": ""
            },
            "colorscale": [
             [
              0,
              "#0d0887"
             ],
             [
              0.1111111111111111,
              "#46039f"
             ],
             [
              0.2222222222222222,
              "#7201a8"
             ],
             [
              0.3333333333333333,
              "#9c179e"
             ],
             [
              0.4444444444444444,
              "#bd3786"
             ],
             [
              0.5555555555555556,
              "#d8576b"
             ],
             [
              0.6666666666666666,
              "#ed7953"
             ],
             [
              0.7777777777777778,
              "#fb9f3a"
             ],
             [
              0.8888888888888888,
              "#fdca26"
             ],
             [
              1,
              "#f0f921"
             ]
            ],
            "type": "surface"
           }
          ],
          "table": [
           {
            "cells": {
             "fill": {
              "color": "#EBF0F8"
             },
             "line": {
              "color": "white"
             }
            },
            "header": {
             "fill": {
              "color": "#C8D4E3"
             },
             "line": {
              "color": "white"
             }
            },
            "type": "table"
           }
          ]
         },
         "layout": {
          "annotationdefaults": {
           "arrowcolor": "#2a3f5f",
           "arrowhead": 0,
           "arrowwidth": 1
          },
          "autotypenumbers": "strict",
          "coloraxis": {
           "colorbar": {
            "outlinewidth": 0,
            "ticks": ""
           }
          },
          "colorscale": {
           "diverging": [
            [
             0,
             "#8e0152"
            ],
            [
             0.1,
             "#c51b7d"
            ],
            [
             0.2,
             "#de77ae"
            ],
            [
             0.3,
             "#f1b6da"
            ],
            [
             0.4,
             "#fde0ef"
            ],
            [
             0.5,
             "#f7f7f7"
            ],
            [
             0.6,
             "#e6f5d0"
            ],
            [
             0.7,
             "#b8e186"
            ],
            [
             0.8,
             "#7fbc41"
            ],
            [
             0.9,
             "#4d9221"
            ],
            [
             1,
             "#276419"
            ]
           ],
           "sequential": [
            [
             0,
             "#0d0887"
            ],
            [
             0.1111111111111111,
             "#46039f"
            ],
            [
             0.2222222222222222,
             "#7201a8"
            ],
            [
             0.3333333333333333,
             "#9c179e"
            ],
            [
             0.4444444444444444,
             "#bd3786"
            ],
            [
             0.5555555555555556,
             "#d8576b"
            ],
            [
             0.6666666666666666,
             "#ed7953"
            ],
            [
             0.7777777777777778,
             "#fb9f3a"
            ],
            [
             0.8888888888888888,
             "#fdca26"
            ],
            [
             1,
             "#f0f921"
            ]
           ],
           "sequentialminus": [
            [
             0,
             "#0d0887"
            ],
            [
             0.1111111111111111,
             "#46039f"
            ],
            [
             0.2222222222222222,
             "#7201a8"
            ],
            [
             0.3333333333333333,
             "#9c179e"
            ],
            [
             0.4444444444444444,
             "#bd3786"
            ],
            [
             0.5555555555555556,
             "#d8576b"
            ],
            [
             0.6666666666666666,
             "#ed7953"
            ],
            [
             0.7777777777777778,
             "#fb9f3a"
            ],
            [
             0.8888888888888888,
             "#fdca26"
            ],
            [
             1,
             "#f0f921"
            ]
           ]
          },
          "colorway": [
           "#636efa",
           "#EF553B",
           "#00cc96",
           "#ab63fa",
           "#FFA15A",
           "#19d3f3",
           "#FF6692",
           "#B6E880",
           "#FF97FF",
           "#FECB52"
          ],
          "font": {
           "color": "#2a3f5f"
          },
          "geo": {
           "bgcolor": "white",
           "lakecolor": "white",
           "landcolor": "#E5ECF6",
           "showlakes": true,
           "showland": true,
           "subunitcolor": "white"
          },
          "hoverlabel": {
           "align": "left"
          },
          "hovermode": "closest",
          "mapbox": {
           "style": "light"
          },
          "paper_bgcolor": "white",
          "plot_bgcolor": "#E5ECF6",
          "polar": {
           "angularaxis": {
            "gridcolor": "white",
            "linecolor": "white",
            "ticks": ""
           },
           "bgcolor": "#E5ECF6",
           "radialaxis": {
            "gridcolor": "white",
            "linecolor": "white",
            "ticks": ""
           }
          },
          "scene": {
           "xaxis": {
            "backgroundcolor": "#E5ECF6",
            "gridcolor": "white",
            "gridwidth": 2,
            "linecolor": "white",
            "showbackground": true,
            "ticks": "",
            "zerolinecolor": "white"
           },
           "yaxis": {
            "backgroundcolor": "#E5ECF6",
            "gridcolor": "white",
            "gridwidth": 2,
            "linecolor": "white",
            "showbackground": true,
            "ticks": "",
            "zerolinecolor": "white"
           },
           "zaxis": {
            "backgroundcolor": "#E5ECF6",
            "gridcolor": "white",
            "gridwidth": 2,
            "linecolor": "white",
            "showbackground": true,
            "ticks": "",
            "zerolinecolor": "white"
           }
          },
          "shapedefaults": {
           "line": {
            "color": "#2a3f5f"
           }
          },
          "ternary": {
           "aaxis": {
            "gridcolor": "white",
            "linecolor": "white",
            "ticks": ""
           },
           "baxis": {
            "gridcolor": "white",
            "linecolor": "white",
            "ticks": ""
           },
           "bgcolor": "#E5ECF6",
           "caxis": {
            "gridcolor": "white",
            "linecolor": "white",
            "ticks": ""
           }
          },
          "title": {
           "x": 0.05
          },
          "xaxis": {
           "automargin": true,
           "gridcolor": "white",
           "linecolor": "white",
           "ticks": "",
           "title": {
            "standoff": 15
           },
           "zerolinecolor": "white",
           "zerolinewidth": 2
          },
          "yaxis": {
           "automargin": true,
           "gridcolor": "white",
           "linecolor": "white",
           "ticks": "",
           "title": {
            "standoff": 15
           },
           "zerolinecolor": "white",
           "zerolinewidth": 2
          }
         }
        },
        "title": {
         "text": "Sum of different cover source by StateCode"
        },
        "xaxis": {
         "anchor": "y",
         "domain": [
          0,
          1
         ],
         "title": {
          "text": "StateCode"
         }
        },
        "yaxis": {
         "anchor": "x",
         "domain": [
          0,
          1
         ],
         "title": {
          "text": "value"
         }
        }
       }
      }
     },
     "metadata": {},
     "output_type": "display_data"
    }
   ],
   "source": [
    "import plotly.express as px\n",
    "\n",
    "df = service.groupBy('StateCode').pivot(\"SourceName\").count().toPandas()\n",
    "\n",
    "df = df.sort_values(by=['HIOS'], ascending=False)  ## here manipulate on how the order is showing on create df\n",
    "fig = px.bar(df, x='StateCode', y=['HIOS', 'OPM','SERFF'], \n",
    "             title='Sum of different cover source by StateCode')\n",
    "fig.show()"
   ]
  },
  {
   "attachments": {},
   "cell_type": "markdown",
   "metadata": {},
   "source": [
    "## correlation"
   ]
  },
  {
   "cell_type": "code",
   "execution_count": 70,
   "metadata": {},
   "outputs": [],
   "source": [
    "## import data \n",
    "csv_path = \"../health_etl/data/BusinessRules.csv\"\n",
    "rules = spark.read.csv(csv_path,header=True)  "
   ]
  },
  {
   "cell_type": "code",
   "execution_count": 71,
   "metadata": {},
   "outputs": [
    {
     "name": "stdout",
     "output_type": "stream",
     "text": [
      "+------------+---------+--------+----------+----------+-------------------+---------+----------+---------+-------------------+-------------------------------------+--------------------------------+-----------------------------------+----------------------+-----------------------------------+--------------------------------+-------------------------------+--------------------+----------------------------+--------------------+---------+--------------+--------------+\n",
      "|BusinessYear|StateCode|IssuerId|SourceName|VersionNum|         ImportDate|IssuerId2|       TIN|ProductId|StandardComponentId|EnrolleeContractRateDeterminationRule|TwoParentFamilyMaxDependentsRule|SingleParentFamilyMaxDependentsRule|DependentMaximumAgRule|ChildrenOnlyContractMaxChildrenRule|DomesticPartnerAsSpouseIndicator|SameSexPartnerAsSpouseIndicator|AgeDeterminationRule|MinimumTobaccoFreeMonthsRule|    CohabitationRule|RowNumber|MarketCoverage|DentalOnlyPlan|\n",
      "+------------+---------+--------+----------+----------+-------------------+---------+----------+---------+-------------------+-------------------------------------+--------------------------------+-----------------------------------+----------------------+-----------------------------------+--------------------------------+-------------------------------+--------------------+----------------------------+--------------------+---------+--------------+--------------+\n",
      "|        2014|       AL|   82285|      HIOS|         7|2014-01-21 08:29:49|    82285|94-2761537|     null|     82285AL0010006|                 A different rate ...|                       3 or more|                          3 or more|                    26|                          3 or more|                             Yes|                            Yes|Age on effective ...|              Not Applicable|Spouse,No;Adopted...|       14|          null|          null|\n",
      "|        2014|       AL|   82285|      HIOS|         7|2014-01-21 08:29:49|    82285|94-2761537|     null|     82285AL0020001|                 A different rate ...|                       3 or more|                          3 or more|        Not Applicable|                          3 or more|                             Yes|                            Yes|Age on effective ...|              Not Applicable|Adopted Child,Yes...|       15|          null|          null|\n",
      "|        2014|       AL|   82285|      HIOS|         7|2014-01-21 08:29:49|    82285|94-2761537|     null|     82285AL0020002|                 A different rate ...|                       3 or more|                          3 or more|        Not Applicable|                          3 or more|                             Yes|                            Yes|Age on effective ...|              Not Applicable|Adopted Child,Yes...|       16|          null|          null|\n",
      "|        2014|       AL|   82285|      HIOS|         7|2014-01-21 08:29:49|    82285|94-2761537|     null|     82285AL0020004|                 A different rate ...|                       3 or more|                          3 or more|                    26|                          3 or more|                             Yes|                            Yes|Age on effective ...|              Not Applicable|Spouse,No;Adopted...|       17|          null|          null|\n",
      "|        2014|       AL|   82285|      HIOS|         7|2014-01-21 08:29:49|    82285|94-2761537|     null|     82285AL0020006|                 A different rate ...|                       3 or more|                          3 or more|                    26|                          3 or more|                             Yes|                            Yes|Age on effective ...|              Not Applicable|Spouse,No;Adopted...|       18|          null|          null|\n",
      "|        2014|       AZ|   17100|      HIOS|         7|2013-10-15 07:27:56|    17100|13-5581829|     null|               null|                 There are rates s...|                       3 or more|                          3 or more|                    26|                          3 or more|                             Yes|                            Yes|Age on effective ...|              Not Applicable|Spouse,No;Grandso...|       10|          null|          null|\n",
      "|        2014|       AZ|   17100|      HIOS|         7|2013-10-15 07:27:56|    17100|13-5581829|     null|     17100AZ0160001|                 A different rate ...|                       3 or more|                          3 or more|                    21|                          3 or more|                              No|                             No|Age on effective ...|              Not Applicable|Brother or Sister...|       11|          null|          null|\n",
      "|        2014|       AZ|   18156|      HIOS|         1|2013-06-06 10:50:48|    18156|35-0472300|     null|               null|                 There are rates s...|                       3 or more|                          3 or more|                    30|                                  1|                             Yes|                            Yes|Age on effective ...|              Not Applicable|Spouse,No;Grandso...|       10|          null|          null|\n",
      "|        2014|       AZ|   23307|      HIOS|         8|2014-01-16 07:24:04|    23307|61-1013183|     null|               null|                 A different rate ...|                       3 or more|                          3 or more|                    26|                          3 or more|                             Yes|                             No|Age on effective ...|                           6|Spouse,No;Adopted...|       10|          null|          null|\n",
      "|        2014|       AZ|   30045|      HIOS|         5|2014-03-19 07:06:49|    30045|86-0274899|     null|               null|                 A different rate ...|                       3 or more|                          3 or more|                    26|                          3 or more|                              No|                             No|Age on effective ...|              Not Applicable|Spouse,Yes;Adopte...|       10|          null|          null|\n",
      "+------------+---------+--------+----------+----------+-------------------+---------+----------+---------+-------------------+-------------------------------------+--------------------------------+-----------------------------------+----------------------+-----------------------------------+--------------------------------+-------------------------------+--------------------+----------------------------+--------------------+---------+--------------+--------------+\n",
      "only showing top 10 rows\n",
      "\n"
     ]
    }
   ],
   "source": [
    "rules.show(10)"
   ]
  },
  {
   "cell_type": "code",
   "execution_count": 72,
   "metadata": {},
   "outputs": [],
   "source": [
    "# replace categoric values with 0 and 1\n",
    "\n",
    "from pyspark.sql.functions import col , udf\n",
    "\n",
    "## change two columns\n",
    "Dict = {'Yes':'1','No':'0'}   # this dictionary can also be used for other columns transfer\n",
    "map_func = udf(lambda row : Dict.get(row,row))\n",
    "\n",
    "rules = rules.withColumn(\"DomesticPartnerAsSpouseIndicator\", map_func(col(\"DomesticPartnerAsSpouseIndicator\")))\n",
    "rules = rules.withColumn(\"SameSexPartnerAsSpouseIndicator\", map_func(col(\"SameSexPartnerAsSpouseIndicator\")))\n",
    "\n",
    "## change 3 columns with same dictionary\n",
    "Dict = {'1':1,'null':0,'3 or more':3, '2':2}   # this dictionary can also be used for other columns transfer\n",
    "map_func = udf(lambda row : Dict.get(row,row))\n",
    "cols_to_modify = ['TwoParentFamilyMaxDependentsRule', 'SingleParentFamilyMaxDependentsRule','ChildrenOnlyContractMaxChildrenRule']\n",
    "\n",
    "for col_name in cols_to_modify:\n",
    "    rules = rules.withColumn(col_name, map_func(col(col_name)))"
   ]
  },
  {
   "cell_type": "code",
   "execution_count": 73,
   "metadata": {},
   "outputs": [
    {
     "name": "stdout",
     "output_type": "stream",
     "text": [
      "root\n",
      " |-- BusinessYear: string (nullable = true)\n",
      " |-- StateCode: string (nullable = true)\n",
      " |-- IssuerId: string (nullable = true)\n",
      " |-- SourceName: string (nullable = true)\n",
      " |-- VersionNum: string (nullable = true)\n",
      " |-- ImportDate: string (nullable = true)\n",
      " |-- IssuerId2: string (nullable = true)\n",
      " |-- TIN: string (nullable = true)\n",
      " |-- ProductId: string (nullable = true)\n",
      " |-- StandardComponentId: string (nullable = true)\n",
      " |-- EnrolleeContractRateDeterminationRule: string (nullable = true)\n",
      " |-- TwoParentFamilyMaxDependentsRule: string (nullable = true)\n",
      " |-- SingleParentFamilyMaxDependentsRule: string (nullable = true)\n",
      " |-- DependentMaximumAgRule: string (nullable = true)\n",
      " |-- ChildrenOnlyContractMaxChildrenRule: string (nullable = true)\n",
      " |-- DomesticPartnerAsSpouseIndicator: string (nullable = true)\n",
      " |-- SameSexPartnerAsSpouseIndicator: string (nullable = true)\n",
      " |-- AgeDeterminationRule: string (nullable = true)\n",
      " |-- MinimumTobaccoFreeMonthsRule: string (nullable = true)\n",
      " |-- CohabitationRule: string (nullable = true)\n",
      " |-- RowNumber: string (nullable = true)\n",
      " |-- MarketCoverage: string (nullable = true)\n",
      " |-- DentalOnlyPlan: string (nullable = true)\n",
      "\n"
     ]
    }
   ],
   "source": [
    "rules.printSchema()"
   ]
  },
  {
   "cell_type": "code",
   "execution_count": 74,
   "metadata": {},
   "outputs": [
    {
     "name": "stdout",
     "output_type": "stream",
     "text": [
      "root\n",
      " |-- BusinessYear: string (nullable = true)\n",
      " |-- StateCode: string (nullable = true)\n",
      " |-- IssuerId: integer (nullable = true)\n",
      " |-- SourceName: string (nullable = true)\n",
      " |-- VersionNum: string (nullable = true)\n",
      " |-- ImportDate: string (nullable = true)\n",
      " |-- IssuerId2: string (nullable = true)\n",
      " |-- TIN: string (nullable = true)\n",
      " |-- ProductId: string (nullable = true)\n",
      " |-- StandardComponentId: string (nullable = true)\n",
      " |-- EnrolleeContractRateDeterminationRule: string (nullable = true)\n",
      " |-- TwoParentFamilyMaxDependentsRule: integer (nullable = true)\n",
      " |-- SingleParentFamilyMaxDependentsRule: integer (nullable = true)\n",
      " |-- DependentMaximumAgRule: string (nullable = true)\n",
      " |-- ChildrenOnlyContractMaxChildrenRule: integer (nullable = true)\n",
      " |-- DomesticPartnerAsSpouseIndicator: integer (nullable = true)\n",
      " |-- SameSexPartnerAsSpouseIndicator: integer (nullable = true)\n",
      " |-- AgeDeterminationRule: string (nullable = true)\n",
      " |-- MinimumTobaccoFreeMonthsRule: string (nullable = true)\n",
      " |-- CohabitationRule: string (nullable = true)\n",
      " |-- RowNumber: string (nullable = true)\n",
      " |-- MarketCoverage: string (nullable = true)\n",
      " |-- DentalOnlyPlan: string (nullable = true)\n",
      "\n"
     ]
    }
   ],
   "source": [
    "## change multiple string column into int type\n",
    "# create a list of columns to cast\n",
    "cols_to_cast = ['IssuerId','TwoParentFamilyMaxDependentsRule', 'SingleParentFamilyMaxDependentsRule',\n",
    "                'ChildrenOnlyContractMaxChildrenRule','DomesticPartnerAsSpouseIndicator','SameSexPartnerAsSpouseIndicator']\n",
    "\n",
    "# cast the selected columns to integer using a list comprehension\n",
    "rules = rules.select([col(c).cast('int').alias(c) if c in cols_to_cast else c for c in rules.columns])\n",
    "\n",
    "rules.printSchema()\n"
   ]
  },
  {
   "cell_type": "code",
   "execution_count": 79,
   "metadata": {},
   "outputs": [
    {
     "data": {
      "text/plain": [
       "910"
      ]
     },
     "execution_count": 79,
     "metadata": {},
     "output_type": "execute_result"
    }
   ],
   "source": [
    "rules.select('IssuerId').distinct().count()"
   ]
  },
  {
   "cell_type": "code",
   "execution_count": 80,
   "metadata": {},
   "outputs": [
    {
     "name": "stderr",
     "output_type": "stream",
     "text": [
      "Traceback (most recent call last):\n",
      "  File \"/Users/yueqili/miniconda3/envs/etl/lib/python3.8/site-packages/pyspark/python/lib/pyspark.zip/pyspark/daemon.py\", line 186, in manager\n",
      "  File \"/Users/yueqili/miniconda3/envs/etl/lib/python3.8/site-packages/pyspark/python/lib/pyspark.zip/pyspark/daemon.py\", line 74, in worker\n",
      "  File \"/Users/yueqili/miniconda3/envs/etl/lib/python3.8/site-packages/pyspark/python/lib/pyspark.zip/pyspark/worker.py\", line 663, in main\n",
      "    if read_int(infile) == SpecialLengths.END_OF_STREAM:\n",
      "  File \"/Users/yueqili/miniconda3/envs/etl/lib/python3.8/site-packages/pyspark/python/lib/pyspark.zip/pyspark/serializers.py\", line 564, in read_int\n",
      "    raise EOFError\n",
      "EOFError\n"
     ]
    }
   ],
   "source": [
    "from pyspark.mllib.stat import Statistics\n",
    "\n",
    "# select variables to check correlation\n",
    "df_clr = rules.select(\"TwoParentFamilyMaxDependentsRule\",\"SingleParentFamilyMaxDependentsRule\",\n",
    "                      \"ChildrenOnlyContractMaxChildrenRule\",\"DomesticPartnerAsSpouseIndicator\",\"SameSexPartnerAsSpouseIndicator\" ) \n",
    "\n",
    "# create RDD table for correlation calculation\n",
    "rdd_table = df_clr.rdd.map(lambda row: row[0:])\n",
    "\n",
    "# get the correlation matrix\n",
    "corr_mat=Statistics.corr(rdd_table, method=\"pearson\")"
   ]
  },
  {
   "cell_type": "code",
   "execution_count": 76,
   "metadata": {},
   "outputs": [
    {
     "data": {
      "text/plain": [
       "<Axes: >"
      ]
     },
     "execution_count": 76,
     "metadata": {},
     "output_type": "execute_result"
    },
    {
     "data": {
      "image/png": "[encoded data removed]",
      "text/plain": [
       "<Figure size 640x480 with 2 Axes>"
      ]
     },
     "metadata": {},
     "output_type": "display_data"
    }
   ],
   "source": [
    "import seaborn as sns\n",
    "sns.heatmap(corr_mat,annot=True,\n",
    "            xticklabels=[\"IssuerId\",\"TwoParentFamilyMaxDependentsRule\",\"SingleParentFamilyMaxDependentsRule\",\n",
    "                      \"ChildrenOnlyContractMaxChildrenRule\",\"DomesticPartnerAsSpouseIndicator\",\"SameSexPartnerAsSpouseIndicator\" ],\n",
    "            yticklabels=[\"IssuerId\",\"TwoParentFamilyMaxDependentsRule\",\"SingleParentFamilyMaxDependentsRule\",\n",
    "                      \"ChildrenOnlyContractMaxChildrenRule\",\"DomesticPartnerAsSpouseIndicator\",\"SameSexPartnerAsSpouseIndicator\" ])"
   ]
  },
  {
   "cell_type": "code",
   "execution_count": 81,
   "metadata": {},
   "outputs": [],
   "source": [
    "spark.stop()"
   ]
  },
  {
   "attachments": {},
   "cell_type": "markdown",
   "metadata": {},
   "source": [
    "## **SQL queries**"
   ]
  },
  {
   "cell_type": "code",
   "execution_count": 92,
   "metadata": {},
   "outputs": [
    {
     "name": "stderr",
     "output_type": "stream",
     "text": [
      "[Stage 7:==============================================>           (8 + 2) / 10]\r"
     ]
    },
    {
     "name": "stdout",
     "output_type": "stream",
     "text": [
      "+------------------+\n",
      "|count(BenefitName)|\n",
      "+------------------+\n",
      "|                 0|\n",
      "+------------------+\n",
      "\n"
     ]
    },
    {
     "name": "stderr",
     "output_type": "stream",
     "text": [
      "                                                                                \r"
     ]
    }
   ],
   "source": [
    "from pyspark.sql import SparkSession\n",
    "\n",
    "# create a SparkSession\n",
    "spark = SparkSession.builder.appName(\"PySpark SQL\").getOrCreate()\n",
    "\n",
    "# read the CSV file into a DataFrame\n",
    "csv_path = \"../health_etl/data/BenefitsCostSharing.csv\"\n",
    "benefits = spark.read.csv(csv_path, header=True)\n",
    "\n",
    "# register the DataFrame as a temporary view\n",
    "benefits.createOrReplaceTempView(\"benefits_view\")\n",
    "\n",
    "# define a SQL query\n",
    "query = \"SELECT count(distinct BenefitName)  FROM benefits_view\"\n",
    "# execute the query\n",
    "results = spark.sql(query)\n",
    "# show the results\n",
    "results.show()\n"
   ]
  },
  {
   "cell_type": "code",
   "execution_count": 99,
   "metadata": {},
   "outputs": [
    {
     "name": "stderr",
     "output_type": "stream",
     "text": [
      "[Stage 23:>                                                         (0 + 1) / 1]\r"
     ]
    },
    {
     "name": "stdout",
     "output_type": "stream",
     "text": [
      "+--------------------+------------+-------------+-------------+-------------+-------------+-------------+-------------+--------------------+----------+--------------------+-------------------+---------+-----+-----------------+-----------------+--------------+----------------+----------------+--------+---------+--------+--------------------+-----------+-----------------+---------------+---------+----------+-------------------+---------+----------+----------+\n",
      "|         BenefitName|BusinessYear|CoinsInnTier1|CoinsInnTier2|CoinsOutofNet|CopayInnTier1|CopayInnTier2|CopayOutofNet|        EHBVarReason|Exclusions|         Explanation|         ImportDate|IsCovered|IsEHB|IsExclFromInnMOOP|IsExclFromOonMOOP|IsStateMandate|IsSubjToDedTier1|IsSubjToDedTier2|IssuerId|IssuerId2|LimitQty|           LimitUnit|MinimumStay|           PlanId|QuantLimitOnSvc|RowNumber|SourceName|StandardComponentId|StateCode|StateCode2|VersionNum|\n",
      "+--------------------+------------+-------------+-------------+-------------+-------------+-------------+-------------+--------------------+----------+--------------------+-------------------+---------+-----+-----------------+-----------------+--------------+----------------+----------------+--------+---------+--------+--------------------+-----------+-----------------+---------------+---------+----------+-------------------+---------+----------+----------+\n",
      "|Routine Dental Se...|        2014|          20%|         null|          20%|    No Charge|         null|    No Charge|           Above EHB|      null|Combined annual b...|2014-03-19 07:06:49|  Covered| null|               No|               No|          null|              No|              No|   21989|    21989|  1000.0|    Dollars per Year|       null|21989AK0010001-00|            Yes|       68|      HIOS|     21989AK0010001|       AK|        AK|         6|\n",
      "|Dental Check-Up f...|        2014|          20%|         null|          20%|    No Charge|         null|    No Charge| Substantially Equal|      null|See policy for ad...|2014-03-19 07:06:49|  Covered|  Yes|               No|               No|          null|              No|              No|   21989|    21989|     1.0|Visit(s) per 6 Mo...|       null|21989AK0010001-00|            Yes|      104|      HIOS|     21989AK0010001|       AK|        AK|         6|\n",
      "|Basic Dental Care...|        2014|          40%|         null|          40%|    No Charge|         null|    No Charge| Substantially Equal|      null|See policy for ad...|2014-03-19 07:06:49|  Covered|  Yes|               No|               No|          null|             Yes|             Yes|   21989|    21989|    null|                null|       null|21989AK0010001-00|           null|      110|      HIOS|     21989AK0010001|       AK|        AK|         6|\n",
      "| Orthodontia - Child|        2014|          50%|         null|          50%|    No Charge|         null|    No Charge|Additional EHB Be...|      null|24 month waiting ...|2014-03-19 07:06:49|  Covered| null|               No|               No|          null|             Yes|             Yes|   21989|    21989|    null|                null|       null|21989AK0010001-00|           null|      111|      HIOS|     21989AK0010001|       AK|        AK|         6|\n",
      "|Major Dental Care...|        2014|          50%|         null|          50%|    No Charge|         null|    No Charge| Substantially Equal|      null|See policy for ad...|2014-03-19 07:06:49|  Covered|  Yes|               No|               No|          null|             Yes|             Yes|   21989|    21989|    null|                null|       null|21989AK0010001-00|           null|      112|      HIOS|     21989AK0010001|       AK|        AK|         6|\n",
      "|Basic Dental Care...|        2014|          40%|         null|          40%|    No Charge|         null|    No Charge|           Above EHB|      null|Combined annual b...|2014-03-19 07:06:49|  Covered| null|               No|               No|          null|             Yes|             Yes|   21989|    21989|  1000.0|    Dollars per Year|       null|21989AK0010001-00|            Yes|      113|      HIOS|     21989AK0010001|       AK|        AK|         6|\n",
      "| Orthodontia - Adult|        2014|         null|         null|         null|         null|         null|         null|                null|      null|                null|2014-03-19 07:06:49|     null| null|             null|             null|          null|            null|            null|   21989|    21989|    null|                null|       null|21989AK0010001-00|           null|      114|      HIOS|     21989AK0010001|       AK|        AK|         6|\n",
      "|Major Dental Care...|        2014|          50%|         null|          50%|    No Charge|         null|    No Charge|           Above EHB|      null|Combined annual b...|2014-03-19 07:06:49|  Covered| null|               No|               No|          null|             Yes|             Yes|   21989|    21989|  1000.0|    Dollars per Year|       null|21989AK0010001-00|            Yes|      115|      HIOS|     21989AK0010001|       AK|        AK|         6|\n",
      "|   Accidental Dental|        2014|         null|         null|         null|         null|         null|         null|                null|      null|                null|2014-03-19 07:06:49|     null| null|             null|             null|          null|            null|            null|   21989|    21989|    null|                null|       null|21989AK0010001-00|           null|      118|      HIOS|     21989AK0010001|       AK|        AK|         6|\n",
      "|Routine Dental Se...|        2014|          20%|         null|          20%|    No Charge|         null|    No Charge|           Above EHB|      null|Combined annual b...|2014-03-19 07:06:49|  Covered| null|               No|               No|          null|              No|              No|   21989|    21989|  1000.0|    Dollars per Year|       null|21989AK0010001-01|            Yes|       68|      HIOS|     21989AK0010001|       AK|        AK|         6|\n",
      "|Dental Check-Up f...|        2014|          20%|         null|          20%|    No Charge|         null|    No Charge| Substantially Equal|      null|See policy for ad...|2014-03-19 07:06:49|  Covered|  Yes|               No|               No|          null|              No|              No|   21989|    21989|     1.0|Visit(s) per 6 Mo...|       null|21989AK0010001-01|            Yes|      104|      HIOS|     21989AK0010001|       AK|        AK|         6|\n",
      "|Basic Dental Care...|        2014|          40%|         null|          40%|    No Charge|         null|    No Charge| Substantially Equal|      null|See policy for ad...|2014-03-19 07:06:49|  Covered|  Yes|               No|               No|          null|             Yes|             Yes|   21989|    21989|    null|                null|       null|21989AK0010001-01|           null|      110|      HIOS|     21989AK0010001|       AK|        AK|         6|\n",
      "| Orthodontia - Child|        2014|          50%|         null|          50%|    No Charge|         null|    No Charge|Additional EHB Be...|      null|24 month waiting ...|2014-03-19 07:06:49|  Covered| null|               No|               No|          null|             Yes|             Yes|   21989|    21989|    null|                null|       null|21989AK0010001-01|           null|      111|      HIOS|     21989AK0010001|       AK|        AK|         6|\n",
      "|Major Dental Care...|        2014|          50%|         null|          50%|    No Charge|         null|    No Charge| Substantially Equal|      null|See policy for ad...|2014-03-19 07:06:49|  Covered|  Yes|               No|               No|          null|             Yes|             Yes|   21989|    21989|    null|                null|       null|21989AK0010001-01|           null|      112|      HIOS|     21989AK0010001|       AK|        AK|         6|\n",
      "|Basic Dental Care...|        2014|          40%|         null|          40%|    No Charge|         null|    No Charge|           Above EHB|      null|Combined annual b...|2014-03-19 07:06:49|  Covered| null|               No|               No|          null|             Yes|             Yes|   21989|    21989|  1000.0|    Dollars per Year|       null|21989AK0010001-01|            Yes|      113|      HIOS|     21989AK0010001|       AK|        AK|         6|\n",
      "| Orthodontia - Adult|        2014|         null|         null|         null|         null|         null|         null|                null|      null|                null|2014-03-19 07:06:49|     null| null|             null|             null|          null|            null|            null|   21989|    21989|    null|                null|       null|21989AK0010001-01|           null|      114|      HIOS|     21989AK0010001|       AK|        AK|         6|\n",
      "|Major Dental Care...|        2014|          50%|         null|          50%|    No Charge|         null|    No Charge|           Above EHB|      null|Combined annual b...|2014-03-19 07:06:49|  Covered| null|               No|               No|          null|             Yes|             Yes|   21989|    21989|  1000.0|    Dollars per Year|       null|21989AK0010001-01|            Yes|      115|      HIOS|     21989AK0010001|       AK|        AK|         6|\n",
      "|   Accidental Dental|        2014|         null|         null|         null|         null|         null|         null|                null|      null|                null|2014-03-19 07:06:49|     null| null|             null|             null|          null|            null|            null|   21989|    21989|    null|                null|       null|21989AK0010001-01|           null|      118|      HIOS|     21989AK0010001|       AK|        AK|         6|\n",
      "|Routine Dental Se...|        2014|           0%|         null|           0%|    No Charge|         null|    No Charge|           Above EHB|      null|Combined annual b...|2014-03-19 07:06:49|  Covered| null|               No|               No|          null|              No|              No|   21989|    21989|  1000.0|    Dollars per Year|       null|21989AK0020001-00|            Yes|       68|      HIOS|     21989AK0020001|       AK|        AK|         6|\n",
      "|Dental Check-Up f...|        2014|           0%|         null|           0%|    No Charge|         null|    No Charge| Substantially Equal|      null|See policy for ad...|2014-03-19 07:06:49|  Covered|  Yes|               No|               No|          null|              No|              No|   21989|    21989|     1.0|Visit(s) per 6 Mo...|       null|21989AK0020001-00|            Yes|      104|      HIOS|     21989AK0020001|       AK|        AK|         6|\n",
      "+--------------------+------------+-------------+-------------+-------------+-------------+-------------+-------------+--------------------+----------+--------------------+-------------------+---------+-----+-----------------+-----------------+--------------+----------------+----------------+--------+---------+--------+--------------------+-----------+-----------------+---------------+---------+----------+-------------------+---------+----------+----------+\n",
      "only showing top 20 rows\n",
      "\n"
     ]
    },
    {
     "name": "stderr",
     "output_type": "stream",
     "text": [
      "                                                                                \r"
     ]
    }
   ],
   "source": [
    "benefits.show()"
   ]
  },
  {
   "cell_type": "code",
   "execution_count": 106,
   "metadata": {},
   "outputs": [
    {
     "name": "stdout",
     "output_type": "stream",
     "text": [
      "+--------------------+------+------------+\n",
      "|        EHBVarReason| count|BusinessYear|\n",
      "+--------------------+------+------------+\n",
      "|           Above EHB| 53435|        2014|\n",
      "|Other Law/Regulation| 35533|        2014|\n",
      "|           Above Ehb|     1|        2014|\n",
      "|Dental Only Plan ...| 36813|        2014|\n",
      "| Substantially Equal|156827|        2014|\n",
      "|Additional EHB Be...|198651|        2014|\n",
      "|         Substituted|  1428|        2014|\n",
      "|           above EHB|     8|        2014|\n",
      "|Dental Only Plan ...| 62628|        2015|\n",
      "|         Substituted|  1440|        2015|\n",
      "|           Above EHB|144359|        2015|\n",
      "|Additional EHB Be...|320800|        2015|\n",
      "|Other Law/Regulation| 49913|        2015|\n",
      "| Substantially Equal|357031|        2015|\n",
      "|Using Alternate B...|    63|        2015|\n",
      "|           Above EHB| 68144|        2016|\n",
      "|         Substituted|  1110|        2016|\n",
      "|Dental Only Plan ...| 68290|        2016|\n",
      "|additional EHB Be...|     4|        2016|\n",
      "|Additional EHB Be...|180013|        2016|\n",
      "+--------------------+------+------------+\n",
      "only showing top 20 rows\n",
      "\n"
     ]
    }
   ],
   "source": [
    "query = \"SELECT EHBVarReason, count(EHBVarReason) as count, BusinessYear FROM benefits_view GROUP BY EHBVarReason, BusinessYear \"\n",
    "results = spark.sql(query)\n",
    "results.show()"
   ]
  },
  {
   "attachments": {},
   "cell_type": "markdown",
   "metadata": {},
   "source": [
    "## Optimization\n",
    "\n",
    "### Caching"
   ]
  },
  {
   "cell_type": "code",
   "execution_count": 97,
   "metadata": {},
   "outputs": [
    {
     "name": "stderr",
     "output_type": "stream",
     "text": [
      "23/04/30 19:23:59 WARN CacheManager: Asked to cache already cached data.\n"
     ]
    }
   ],
   "source": [
    "from pyspark.sql import SparkSession\n",
    "\n",
    "# create a SparkSession\n",
    "spark = SparkSession.builder.appName(\"PySpark Cache\").getOrCreate()\n",
    "\n",
    "# read the CSV file into a DataFrame\n",
    "csv_path = \"../health_etl/data/BenefitsCostSharing.csv\"\n",
    "benefits = spark.read.csv(csv_path, header=True)\n",
    "\n",
    "# register the DataFrame as a temporary view\n",
    "benefits.createOrReplaceTempView(\"benefits_view\")\n",
    "\n",
    "# cache the temporary view\n",
    "spark.catalog.cacheTable(\"benefits_view\")\n",
    "\n",
    "tmp = benefits.cache()\n"
   ]
  },
  {
   "cell_type": "code",
   "execution_count": 84,
   "metadata": {},
   "outputs": [],
   "source": [
    "csv_path = \"../health_etl/data/BenefitsCostSharing.csv\"\n",
    "\n",
    "benefits = spark.read.csv(csv_path,header=True)  "
   ]
  },
  {
   "cell_type": "code",
   "execution_count": 86,
   "metadata": {},
   "outputs": [
    {
     "name": "stderr",
     "output_type": "stream",
     "text": [
      "23/04/30 19:15:52 WARN package: Truncated the string representation of a plan since it was too large. This behavior can be adjusted by setting 'spark.sql.debug.maxToStringFields'.\n"
     ]
    },
    {
     "name": "stdout",
     "output_type": "stream",
     "text": [
      "+--------------------+------------+-------------+-------------+-------------+-------------+-------------+-------------+--------------------+----------+--------------------+-------------------+---------+-----+-----------------+-----------------+--------------+----------------+----------------+--------+---------+--------+--------------------+-----------+-----------------+---------------+---------+----------+-------------------+---------+----------+----------+\n",
      "|         BenefitName|BusinessYear|CoinsInnTier1|CoinsInnTier2|CoinsOutofNet|CopayInnTier1|CopayInnTier2|CopayOutofNet|        EHBVarReason|Exclusions|         Explanation|         ImportDate|IsCovered|IsEHB|IsExclFromInnMOOP|IsExclFromOonMOOP|IsStateMandate|IsSubjToDedTier1|IsSubjToDedTier2|IssuerId|IssuerId2|LimitQty|           LimitUnit|MinimumStay|           PlanId|QuantLimitOnSvc|RowNumber|SourceName|StandardComponentId|StateCode|StateCode2|VersionNum|\n",
      "+--------------------+------------+-------------+-------------+-------------+-------------+-------------+-------------+--------------------+----------+--------------------+-------------------+---------+-----+-----------------+-----------------+--------------+----------------+----------------+--------+---------+--------+--------------------+-----------+-----------------+---------------+---------+----------+-------------------+---------+----------+----------+\n",
      "|Routine Dental Se...|        2014|          20%|         null|          20%|    No Charge|         null|    No Charge|           Above EHB|      null|Combined annual b...|2014-03-19 07:06:49|  Covered| null|               No|               No|          null|              No|              No|   21989|    21989|  1000.0|    Dollars per Year|       null|21989AK0010001-00|            Yes|       68|      HIOS|     21989AK0010001|       AK|        AK|         6|\n",
      "|Dental Check-Up f...|        2014|          20%|         null|          20%|    No Charge|         null|    No Charge| Substantially Equal|      null|See policy for ad...|2014-03-19 07:06:49|  Covered|  Yes|               No|               No|          null|              No|              No|   21989|    21989|     1.0|Visit(s) per 6 Mo...|       null|21989AK0010001-00|            Yes|      104|      HIOS|     21989AK0010001|       AK|        AK|         6|\n",
      "|Basic Dental Care...|        2014|          40%|         null|          40%|    No Charge|         null|    No Charge| Substantially Equal|      null|See policy for ad...|2014-03-19 07:06:49|  Covered|  Yes|               No|               No|          null|             Yes|             Yes|   21989|    21989|    null|                null|       null|21989AK0010001-00|           null|      110|      HIOS|     21989AK0010001|       AK|        AK|         6|\n",
      "| Orthodontia - Child|        2014|          50%|         null|          50%|    No Charge|         null|    No Charge|Additional EHB Be...|      null|24 month waiting ...|2014-03-19 07:06:49|  Covered| null|               No|               No|          null|             Yes|             Yes|   21989|    21989|    null|                null|       null|21989AK0010001-00|           null|      111|      HIOS|     21989AK0010001|       AK|        AK|         6|\n",
      "|Major Dental Care...|        2014|          50%|         null|          50%|    No Charge|         null|    No Charge| Substantially Equal|      null|See policy for ad...|2014-03-19 07:06:49|  Covered|  Yes|               No|               No|          null|             Yes|             Yes|   21989|    21989|    null|                null|       null|21989AK0010001-00|           null|      112|      HIOS|     21989AK0010001|       AK|        AK|         6|\n",
      "|Basic Dental Care...|        2014|          40%|         null|          40%|    No Charge|         null|    No Charge|           Above EHB|      null|Combined annual b...|2014-03-19 07:06:49|  Covered| null|               No|               No|          null|             Yes|             Yes|   21989|    21989|  1000.0|    Dollars per Year|       null|21989AK0010001-00|            Yes|      113|      HIOS|     21989AK0010001|       AK|        AK|         6|\n",
      "| Orthodontia - Adult|        2014|         null|         null|         null|         null|         null|         null|                null|      null|                null|2014-03-19 07:06:49|     null| null|             null|             null|          null|            null|            null|   21989|    21989|    null|                null|       null|21989AK0010001-00|           null|      114|      HIOS|     21989AK0010001|       AK|        AK|         6|\n",
      "|Major Dental Care...|        2014|          50%|         null|          50%|    No Charge|         null|    No Charge|           Above EHB|      null|Combined annual b...|2014-03-19 07:06:49|  Covered| null|               No|               No|          null|             Yes|             Yes|   21989|    21989|  1000.0|    Dollars per Year|       null|21989AK0010001-00|            Yes|      115|      HIOS|     21989AK0010001|       AK|        AK|         6|\n",
      "|   Accidental Dental|        2014|         null|         null|         null|         null|         null|         null|                null|      null|                null|2014-03-19 07:06:49|     null| null|             null|             null|          null|            null|            null|   21989|    21989|    null|                null|       null|21989AK0010001-00|           null|      118|      HIOS|     21989AK0010001|       AK|        AK|         6|\n",
      "|Routine Dental Se...|        2014|          20%|         null|          20%|    No Charge|         null|    No Charge|           Above EHB|      null|Combined annual b...|2014-03-19 07:06:49|  Covered| null|               No|               No|          null|              No|              No|   21989|    21989|  1000.0|    Dollars per Year|       null|21989AK0010001-01|            Yes|       68|      HIOS|     21989AK0010001|       AK|        AK|         6|\n",
      "|Dental Check-Up f...|        2014|          20%|         null|          20%|    No Charge|         null|    No Charge| Substantially Equal|      null|See policy for ad...|2014-03-19 07:06:49|  Covered|  Yes|               No|               No|          null|              No|              No|   21989|    21989|     1.0|Visit(s) per 6 Mo...|       null|21989AK0010001-01|            Yes|      104|      HIOS|     21989AK0010001|       AK|        AK|         6|\n",
      "|Basic Dental Care...|        2014|          40%|         null|          40%|    No Charge|         null|    No Charge| Substantially Equal|      null|See policy for ad...|2014-03-19 07:06:49|  Covered|  Yes|               No|               No|          null|             Yes|             Yes|   21989|    21989|    null|                null|       null|21989AK0010001-01|           null|      110|      HIOS|     21989AK0010001|       AK|        AK|         6|\n",
      "| Orthodontia - Child|        2014|          50%|         null|          50%|    No Charge|         null|    No Charge|Additional EHB Be...|      null|24 month waiting ...|2014-03-19 07:06:49|  Covered| null|               No|               No|          null|             Yes|             Yes|   21989|    21989|    null|                null|       null|21989AK0010001-01|           null|      111|      HIOS|     21989AK0010001|       AK|        AK|         6|\n",
      "|Major Dental Care...|        2014|          50%|         null|          50%|    No Charge|         null|    No Charge| Substantially Equal|      null|See policy for ad...|2014-03-19 07:06:49|  Covered|  Yes|               No|               No|          null|             Yes|             Yes|   21989|    21989|    null|                null|       null|21989AK0010001-01|           null|      112|      HIOS|     21989AK0010001|       AK|        AK|         6|\n",
      "|Basic Dental Care...|        2014|          40%|         null|          40%|    No Charge|         null|    No Charge|           Above EHB|      null|Combined annual b...|2014-03-19 07:06:49|  Covered| null|               No|               No|          null|             Yes|             Yes|   21989|    21989|  1000.0|    Dollars per Year|       null|21989AK0010001-01|            Yes|      113|      HIOS|     21989AK0010001|       AK|        AK|         6|\n",
      "| Orthodontia - Adult|        2014|         null|         null|         null|         null|         null|         null|                null|      null|                null|2014-03-19 07:06:49|     null| null|             null|             null|          null|            null|            null|   21989|    21989|    null|                null|       null|21989AK0010001-01|           null|      114|      HIOS|     21989AK0010001|       AK|        AK|         6|\n",
      "|Major Dental Care...|        2014|          50%|         null|          50%|    No Charge|         null|    No Charge|           Above EHB|      null|Combined annual b...|2014-03-19 07:06:49|  Covered| null|               No|               No|          null|             Yes|             Yes|   21989|    21989|  1000.0|    Dollars per Year|       null|21989AK0010001-01|            Yes|      115|      HIOS|     21989AK0010001|       AK|        AK|         6|\n",
      "|   Accidental Dental|        2014|         null|         null|         null|         null|         null|         null|                null|      null|                null|2014-03-19 07:06:49|     null| null|             null|             null|          null|            null|            null|   21989|    21989|    null|                null|       null|21989AK0010001-01|           null|      118|      HIOS|     21989AK0010001|       AK|        AK|         6|\n",
      "|Routine Dental Se...|        2014|           0%|         null|           0%|    No Charge|         null|    No Charge|           Above EHB|      null|Combined annual b...|2014-03-19 07:06:49|  Covered| null|               No|               No|          null|              No|              No|   21989|    21989|  1000.0|    Dollars per Year|       null|21989AK0020001-00|            Yes|       68|      HIOS|     21989AK0020001|       AK|        AK|         6|\n",
      "|Dental Check-Up f...|        2014|           0%|         null|           0%|    No Charge|         null|    No Charge| Substantially Equal|      null|See policy for ad...|2014-03-19 07:06:49|  Covered|  Yes|               No|               No|          null|              No|              No|   21989|    21989|     1.0|Visit(s) per 6 Mo...|       null|21989AK0020001-00|            Yes|      104|      HIOS|     21989AK0020001|       AK|        AK|         6|\n",
      "+--------------------+------------+-------------+-------------+-------------+-------------+-------------+-------------+--------------------+----------+--------------------+-------------------+---------+-----+-----------------+-----------------+--------------+----------------+----------------+--------+---------+--------+--------------------+-----------+-----------------+---------------+---------+----------+-------------------+---------+----------+----------+\n",
      "only showing top 20 rows\n",
      "\n"
     ]
    }
   ],
   "source": [
    "benefits.show()"
   ]
  },
  {
   "cell_type": "code",
   "execution_count": 89,
   "metadata": {},
   "outputs": [
    {
     "ename": "AnalysisException",
     "evalue": "Table or view not found: benefits.BenefitName; line 1 pos 14;\n'Project [*]\n+- 'SubqueryAlias LIMIT20\n   +- 'UnresolvedRelation [benefits, BenefitName], [], false\n",
     "output_type": "error",
     "traceback": [
      "\u001b[0;31m---------------------------------------------------------------------------\u001b[0m",
      "\u001b[0;31mAnalysisException\u001b[0m                         Traceback (most recent call last)",
      "Cell \u001b[0;32mIn[89], line 3\u001b[0m\n\u001b[1;32m      1\u001b[0m \u001b[39m# run a SQL query against the view\u001b[39;00m\n\u001b[1;32m      2\u001b[0m query \u001b[39m=\u001b[39m \u001b[39m\"\u001b[39m\u001b[39mSELECT * FROM benefits.BenefitName LIMIT20\u001b[39m\u001b[39m\"\u001b[39m\n\u001b[0;32m----> 3\u001b[0m results \u001b[39m=\u001b[39m spark\u001b[39m.\u001b[39;49msql(query)\n\u001b[1;32m      5\u001b[0m \u001b[39m# show the query results\u001b[39;00m\n\u001b[1;32m      6\u001b[0m results\u001b[39m.\u001b[39mshow()\n",
      "File \u001b[0;32m~/miniconda3/envs/etl/lib/python3.8/site-packages/pyspark/sql/session.py:723\u001b[0m, in \u001b[0;36mSparkSession.sql\u001b[0;34m(self, sqlQuery)\u001b[0m\n\u001b[1;32m    707\u001b[0m \u001b[39mdef\u001b[39;00m \u001b[39msql\u001b[39m(\u001b[39mself\u001b[39m, sqlQuery):\n\u001b[1;32m    708\u001b[0m     \u001b[39m\"\"\"Returns a :class:`DataFrame` representing the result of the given query.\u001b[39;00m\n\u001b[1;32m    709\u001b[0m \n\u001b[1;32m    710\u001b[0m \u001b[39m    .. versionadded:: 2.0.0\u001b[39;00m\n\u001b[0;32m   (...)\u001b[0m\n\u001b[1;32m    721\u001b[0m \u001b[39m    [Row(f1=1, f2='row1'), Row(f1=2, f2='row2'), Row(f1=3, f2='row3')]\u001b[39;00m\n\u001b[1;32m    722\u001b[0m \u001b[39m    \"\"\"\u001b[39;00m\n\u001b[0;32m--> 723\u001b[0m     \u001b[39mreturn\u001b[39;00m DataFrame(\u001b[39mself\u001b[39;49m\u001b[39m.\u001b[39;49m_jsparkSession\u001b[39m.\u001b[39;49msql(sqlQuery), \u001b[39mself\u001b[39m\u001b[39m.\u001b[39m_wrapped)\n",
      "File \u001b[0;32m~/miniconda3/envs/etl/lib/python3.8/site-packages/py4j/java_gateway.py:1309\u001b[0m, in \u001b[0;36mJavaMember.__call__\u001b[0;34m(self, *args)\u001b[0m\n\u001b[1;32m   1303\u001b[0m command \u001b[39m=\u001b[39m proto\u001b[39m.\u001b[39mCALL_COMMAND_NAME \u001b[39m+\u001b[39m\\\n\u001b[1;32m   1304\u001b[0m     \u001b[39mself\u001b[39m\u001b[39m.\u001b[39mcommand_header \u001b[39m+\u001b[39m\\\n\u001b[1;32m   1305\u001b[0m     args_command \u001b[39m+\u001b[39m\\\n\u001b[1;32m   1306\u001b[0m     proto\u001b[39m.\u001b[39mEND_COMMAND_PART\n\u001b[1;32m   1308\u001b[0m answer \u001b[39m=\u001b[39m \u001b[39mself\u001b[39m\u001b[39m.\u001b[39mgateway_client\u001b[39m.\u001b[39msend_command(command)\n\u001b[0;32m-> 1309\u001b[0m return_value \u001b[39m=\u001b[39m get_return_value(\n\u001b[1;32m   1310\u001b[0m     answer, \u001b[39mself\u001b[39;49m\u001b[39m.\u001b[39;49mgateway_client, \u001b[39mself\u001b[39;49m\u001b[39m.\u001b[39;49mtarget_id, \u001b[39mself\u001b[39;49m\u001b[39m.\u001b[39;49mname)\n\u001b[1;32m   1312\u001b[0m \u001b[39mfor\u001b[39;00m temp_arg \u001b[39min\u001b[39;00m temp_args:\n\u001b[1;32m   1313\u001b[0m     temp_arg\u001b[39m.\u001b[39m_detach()\n",
      "File \u001b[0;32m~/miniconda3/envs/etl/lib/python3.8/site-packages/pyspark/sql/utils.py:117\u001b[0m, in \u001b[0;36mcapture_sql_exception.<locals>.deco\u001b[0;34m(*a, **kw)\u001b[0m\n\u001b[1;32m    113\u001b[0m converted \u001b[39m=\u001b[39m convert_exception(e\u001b[39m.\u001b[39mjava_exception)\n\u001b[1;32m    114\u001b[0m \u001b[39mif\u001b[39;00m \u001b[39mnot\u001b[39;00m \u001b[39misinstance\u001b[39m(converted, UnknownException):\n\u001b[1;32m    115\u001b[0m     \u001b[39m# Hide where the exception came from that shows a non-Pythonic\u001b[39;00m\n\u001b[1;32m    116\u001b[0m     \u001b[39m# JVM exception message.\u001b[39;00m\n\u001b[0;32m--> 117\u001b[0m     \u001b[39mraise\u001b[39;00m converted \u001b[39mfrom\u001b[39;00m \u001b[39mNone\u001b[39m\n\u001b[1;32m    118\u001b[0m \u001b[39melse\u001b[39;00m:\n\u001b[1;32m    119\u001b[0m     \u001b[39mraise\u001b[39;00m\n",
      "\u001b[0;31mAnalysisException\u001b[0m: Table or view not found: benefits.BenefitName; line 1 pos 14;\n'Project [*]\n+- 'SubqueryAlias LIMIT20\n   +- 'UnresolvedRelation [benefits, BenefitName], [], false\n"
     ]
    }
   ],
   "source": [
    "# run a SQL query against the view\n",
    "query = \"SELECT * FROM benefits.BenefitName LIMIT20\"\n",
    "results = spark.sql(query)\n",
    "\n",
    "# show the query results\n",
    "results.show()"
   ]
  },
  {
   "cell_type": "code",
   "execution_count": 108,
   "metadata": {},
   "outputs": [],
   "source": [
    "spark.stop()"
   ]
  },
  {
   "attachments": {},
   "cell_type": "markdown",
   "metadata": {},
   "source": [
    "## JDBC connection"
   ]
  },
  {
   "cell_type": "code",
   "execution_count": null,
   "metadata": {},
   "outputs": [],
   "source": [
    "from pyspark.sql import SparkSession\n",
    "\n",
    "# create a SparkSession\n",
    "spark = SparkSession.builder.appName(\"PySpark JDBC\").getOrCreate()\n",
    "\n",
    "# set the properties for the JDBC connection\n",
    "jdbc_url = \"jdbc:mysql://<hostname>:<port>/<database>\"\n",
    "table_name = \"<table_name>\"\n",
    "connection_properties = {\n",
    "    \"user\": \"<username>\",\n",
    "    \"password\": \"<password>\",\n",
    "    \"driver\": \"com.mysql.jdbc.Driver\"\n",
    "}\n",
    "\n",
    "# read data from the database using the JDBC connection\n",
    "df = spark.read.jdbc(url=jdbc_url, table=table_name, properties=connection_properties)\n",
    "\n",
    "# show the data\n",
    "df.show()\n"
   ]
  }
 ],
 "metadata": {
  "kernelspec": {
   "display_name": "etl",
   "language": "python",
   "name": "python3"
  },
  "language_info": {
   "codemirror_mode": {
    "name": "ipython",
    "version": 3
   },
   "file_extension": ".py",
   "mimetype": "text/x-python",
   "name": "python",
   "nbconvert_exporter": "python",
   "pygments_lexer": "ipython3",
   "version": "3.8.16"
  },
  "orig_nbformat": 4
 },
 "nbformat": 4,
 "nbformat_minor": 2
}
